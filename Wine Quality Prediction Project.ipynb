{
 "cells": [
  {
   "cell_type": "markdown",
   "id": "cd89b55a-78cc-40b5-b2ad-f8410ef89c9a",
   "metadata": {},
   "source": [
    "#                                                                Wine Quality Prediction"
   ]
  },
  {
   "cell_type": "markdown",
   "id": "70b8acc4-dc7c-4bb3-8a50-84fce7c00bd3",
   "metadata": {},
   "source": [
    "## Problem Statement"
   ]
  },
  {
   "cell_type": "markdown",
   "id": "3e111c69-0997-467c-bd60-16a188de95b6",
   "metadata": {},
   "source": [
    "This project aims to create a model that predicts the quality of wine using its chemical properties, such as acidity and alcohol content.\n",
    "By looking at these factors, we want to find out what makes wine good or bad.\n",
    "The model will help winemakers understand how to improve their products."
   ]
  },
  {
   "cell_type": "code",
   "execution_count": 72,
   "id": "88e3c467-6781-4226-a9d5-e364197759f2",
   "metadata": {},
   "outputs": [],
   "source": [
    "import numpy as np\n",
    "import pandas as pd\n",
    "import matplotlib.pyplot as plt\n",
    "from scipy.stats import skew\n",
    "from sklearn.model_selection import train_test_split\n",
    "from sklearn.preprocessing import MinMaxScaler\n",
    "from sklearn import metrics\n",
    "import seaborn as sns\n",
    "\n",
    "import warnings\n",
    "warnings.filterwarnings('ignore')"
   ]
  },
  {
   "cell_type": "code",
   "execution_count": 2,
   "id": "4a49eefd-afc5-4efb-9c08-51c150222d52",
   "metadata": {},
   "outputs": [],
   "source": [
    "df=pd.read_csv(\"wine_dataset.csv\")"
   ]
  },
  {
   "cell_type": "code",
   "execution_count": 3,
   "id": "e95925ee-4c05-483e-aaad-b9755072e640",
   "metadata": {},
   "outputs": [
    {
     "data": {
      "text/html": [
       "<div>\n",
       "<style scoped>\n",
       "    .dataframe tbody tr th:only-of-type {\n",
       "        vertical-align: middle;\n",
       "    }\n",
       "\n",
       "    .dataframe tbody tr th {\n",
       "        vertical-align: top;\n",
       "    }\n",
       "\n",
       "    .dataframe thead th {\n",
       "        text-align: right;\n",
       "    }\n",
       "</style>\n",
       "<table border=\"1\" class=\"dataframe\">\n",
       "  <thead>\n",
       "    <tr style=\"text-align: right;\">\n",
       "      <th></th>\n",
       "      <th>type</th>\n",
       "      <th>fixed acidity</th>\n",
       "      <th>volatile acidity</th>\n",
       "      <th>citric acid</th>\n",
       "      <th>residual sugar</th>\n",
       "      <th>chlorides</th>\n",
       "      <th>free sulfur dioxide</th>\n",
       "      <th>total sulfur dioxide</th>\n",
       "      <th>density</th>\n",
       "      <th>pH</th>\n",
       "      <th>sulphates</th>\n",
       "      <th>alcohol</th>\n",
       "      <th>best quality</th>\n",
       "    </tr>\n",
       "  </thead>\n",
       "  <tbody>\n",
       "    <tr>\n",
       "      <th>0</th>\n",
       "      <td>white</td>\n",
       "      <td>8.1</td>\n",
       "      <td>0.27</td>\n",
       "      <td>0.41</td>\n",
       "      <td>1.45</td>\n",
       "      <td>0.033</td>\n",
       "      <td>11.0</td>\n",
       "      <td>63.0</td>\n",
       "      <td>0.99080</td>\n",
       "      <td>2.99</td>\n",
       "      <td>0.56</td>\n",
       "      <td>12.0</td>\n",
       "      <td>Bad for Health</td>\n",
       "    </tr>\n",
       "    <tr>\n",
       "      <th>1</th>\n",
       "      <td>white</td>\n",
       "      <td>8.6</td>\n",
       "      <td>0.23</td>\n",
       "      <td>0.40</td>\n",
       "      <td>4.20</td>\n",
       "      <td>0.035</td>\n",
       "      <td>17.0</td>\n",
       "      <td>109.0</td>\n",
       "      <td>0.99470</td>\n",
       "      <td>3.14</td>\n",
       "      <td>0.53</td>\n",
       "      <td>9.7</td>\n",
       "      <td>Bad for Health</td>\n",
       "    </tr>\n",
       "    <tr>\n",
       "      <th>2</th>\n",
       "      <td>white</td>\n",
       "      <td>7.9</td>\n",
       "      <td>0.18</td>\n",
       "      <td>0.37</td>\n",
       "      <td>1.20</td>\n",
       "      <td>0.040</td>\n",
       "      <td>16.0</td>\n",
       "      <td>75.0</td>\n",
       "      <td>0.99200</td>\n",
       "      <td>3.18</td>\n",
       "      <td>0.63</td>\n",
       "      <td>10.8</td>\n",
       "      <td>Bad for Health</td>\n",
       "    </tr>\n",
       "    <tr>\n",
       "      <th>3</th>\n",
       "      <td>white</td>\n",
       "      <td>8.3</td>\n",
       "      <td>0.42</td>\n",
       "      <td>0.62</td>\n",
       "      <td>19.25</td>\n",
       "      <td>0.040</td>\n",
       "      <td>41.0</td>\n",
       "      <td>172.0</td>\n",
       "      <td>1.00020</td>\n",
       "      <td>2.98</td>\n",
       "      <td>0.67</td>\n",
       "      <td>9.7</td>\n",
       "      <td>Bad for Health</td>\n",
       "    </tr>\n",
       "    <tr>\n",
       "      <th>4</th>\n",
       "      <td>white</td>\n",
       "      <td>6.5</td>\n",
       "      <td>0.31</td>\n",
       "      <td>0.14</td>\n",
       "      <td>7.50</td>\n",
       "      <td>0.044</td>\n",
       "      <td>34.0</td>\n",
       "      <td>133.0</td>\n",
       "      <td>0.99550</td>\n",
       "      <td>3.22</td>\n",
       "      <td>0.50</td>\n",
       "      <td>9.5</td>\n",
       "      <td>Bad for Health</td>\n",
       "    </tr>\n",
       "    <tr>\n",
       "      <th>...</th>\n",
       "      <td>...</td>\n",
       "      <td>...</td>\n",
       "      <td>...</td>\n",
       "      <td>...</td>\n",
       "      <td>...</td>\n",
       "      <td>...</td>\n",
       "      <td>...</td>\n",
       "      <td>...</td>\n",
       "      <td>...</td>\n",
       "      <td>...</td>\n",
       "      <td>...</td>\n",
       "      <td>...</td>\n",
       "      <td>...</td>\n",
       "    </tr>\n",
       "    <tr>\n",
       "      <th>4763</th>\n",
       "      <td>white</td>\n",
       "      <td>6.7</td>\n",
       "      <td>0.27</td>\n",
       "      <td>0.33</td>\n",
       "      <td>3.60</td>\n",
       "      <td>0.034</td>\n",
       "      <td>9.0</td>\n",
       "      <td>45.0</td>\n",
       "      <td>0.99144</td>\n",
       "      <td>3.08</td>\n",
       "      <td>0.40</td>\n",
       "      <td>10.5</td>\n",
       "      <td>Good for Health</td>\n",
       "    </tr>\n",
       "    <tr>\n",
       "      <th>4764</th>\n",
       "      <td>red</td>\n",
       "      <td>10.0</td>\n",
       "      <td>0.42</td>\n",
       "      <td>0.50</td>\n",
       "      <td>3.40</td>\n",
       "      <td>0.107</td>\n",
       "      <td>7.0</td>\n",
       "      <td>21.0</td>\n",
       "      <td>0.99790</td>\n",
       "      <td>3.26</td>\n",
       "      <td>0.93</td>\n",
       "      <td>11.8</td>\n",
       "      <td>Good for Health</td>\n",
       "    </tr>\n",
       "    <tr>\n",
       "      <th>4765</th>\n",
       "      <td>white</td>\n",
       "      <td>6.5</td>\n",
       "      <td>0.23</td>\n",
       "      <td>0.33</td>\n",
       "      <td>13.80</td>\n",
       "      <td>0.042</td>\n",
       "      <td>25.0</td>\n",
       "      <td>139.0</td>\n",
       "      <td>0.99695</td>\n",
       "      <td>3.35</td>\n",
       "      <td>0.56</td>\n",
       "      <td>10.4</td>\n",
       "      <td>Good for Health</td>\n",
       "    </tr>\n",
       "    <tr>\n",
       "      <th>4766</th>\n",
       "      <td>white</td>\n",
       "      <td>6.3</td>\n",
       "      <td>0.67</td>\n",
       "      <td>0.48</td>\n",
       "      <td>12.60</td>\n",
       "      <td>0.052</td>\n",
       "      <td>57.0</td>\n",
       "      <td>222.0</td>\n",
       "      <td>0.99790</td>\n",
       "      <td>3.17</td>\n",
       "      <td>0.52</td>\n",
       "      <td>9.3</td>\n",
       "      <td>Good for Health</td>\n",
       "    </tr>\n",
       "    <tr>\n",
       "      <th>4767</th>\n",
       "      <td>white</td>\n",
       "      <td>6.7</td>\n",
       "      <td>0.20</td>\n",
       "      <td>0.24</td>\n",
       "      <td>6.50</td>\n",
       "      <td>0.044</td>\n",
       "      <td>28.0</td>\n",
       "      <td>100.0</td>\n",
       "      <td>0.99348</td>\n",
       "      <td>3.12</td>\n",
       "      <td>0.33</td>\n",
       "      <td>10.2</td>\n",
       "      <td>Good for Health</td>\n",
       "    </tr>\n",
       "  </tbody>\n",
       "</table>\n",
       "<p>4768 rows × 13 columns</p>\n",
       "</div>"
      ],
      "text/plain": [
       "       type  fixed acidity  volatile acidity  citric acid  residual sugar  \\\n",
       "0     white            8.1              0.27         0.41            1.45   \n",
       "1     white            8.6              0.23         0.40            4.20   \n",
       "2     white            7.9              0.18         0.37            1.20   \n",
       "3     white            8.3              0.42         0.62           19.25   \n",
       "4     white            6.5              0.31         0.14            7.50   \n",
       "...     ...            ...               ...          ...             ...   \n",
       "4763  white            6.7              0.27         0.33            3.60   \n",
       "4764    red           10.0              0.42         0.50            3.40   \n",
       "4765  white            6.5              0.23         0.33           13.80   \n",
       "4766  white            6.3              0.67         0.48           12.60   \n",
       "4767  white            6.7              0.20         0.24            6.50   \n",
       "\n",
       "      chlorides  free sulfur dioxide  total sulfur dioxide  density    pH  \\\n",
       "0         0.033                 11.0                  63.0  0.99080  2.99   \n",
       "1         0.035                 17.0                 109.0  0.99470  3.14   \n",
       "2         0.040                 16.0                  75.0  0.99200  3.18   \n",
       "3         0.040                 41.0                 172.0  1.00020  2.98   \n",
       "4         0.044                 34.0                 133.0  0.99550  3.22   \n",
       "...         ...                  ...                   ...      ...   ...   \n",
       "4763      0.034                  9.0                  45.0  0.99144  3.08   \n",
       "4764      0.107                  7.0                  21.0  0.99790  3.26   \n",
       "4765      0.042                 25.0                 139.0  0.99695  3.35   \n",
       "4766      0.052                 57.0                 222.0  0.99790  3.17   \n",
       "4767      0.044                 28.0                 100.0  0.99348  3.12   \n",
       "\n",
       "      sulphates  alcohol     best quality  \n",
       "0          0.56     12.0   Bad for Health  \n",
       "1          0.53      9.7   Bad for Health  \n",
       "2          0.63     10.8   Bad for Health  \n",
       "3          0.67      9.7   Bad for Health  \n",
       "4          0.50      9.5   Bad for Health  \n",
       "...         ...      ...              ...  \n",
       "4763       0.40     10.5  Good for Health  \n",
       "4764       0.93     11.8  Good for Health  \n",
       "4765       0.56     10.4  Good for Health  \n",
       "4766       0.52      9.3  Good for Health  \n",
       "4767       0.33     10.2  Good for Health  \n",
       "\n",
       "[4768 rows x 13 columns]"
      ]
     },
     "execution_count": 3,
     "metadata": {},
     "output_type": "execute_result"
    }
   ],
   "source": [
    "df"
   ]
  },
  {
   "cell_type": "markdown",
   "id": "08104282-436b-4957-ae79-e92fc1f9c64d",
   "metadata": {},
   "source": [
    "# Columns"
   ]
  },
  {
   "cell_type": "code",
   "execution_count": 4,
   "id": "a8972157-a45a-4add-8c84-d5aefc78d746",
   "metadata": {},
   "outputs": [
    {
     "data": {
      "text/plain": [
       "Index(['type', 'fixed acidity', 'volatile acidity', 'citric acid',\n",
       "       'residual sugar', 'chlorides', 'free sulfur dioxide',\n",
       "       'total sulfur dioxide', 'density', 'pH', 'sulphates', 'alcohol',\n",
       "       'best quality'],\n",
       "      dtype='object')"
      ]
     },
     "execution_count": 4,
     "metadata": {},
     "output_type": "execute_result"
    }
   ],
   "source": [
    "df.columns"
   ]
  },
  {
   "cell_type": "markdown",
   "id": "6c6b83c3-1295-45dd-964f-3c461b6cfbbf",
   "metadata": {},
   "source": [
    "# Info"
   ]
  },
  {
   "cell_type": "code",
   "execution_count": 5,
   "id": "75f6dcda-eb50-4d04-a242-65766786ca77",
   "metadata": {},
   "outputs": [
    {
     "name": "stdout",
     "output_type": "stream",
     "text": [
      "<class 'pandas.core.frame.DataFrame'>\n",
      "RangeIndex: 4768 entries, 0 to 4767\n",
      "Data columns (total 13 columns):\n",
      " #   Column                Non-Null Count  Dtype  \n",
      "---  ------                --------------  -----  \n",
      " 0   type                  4768 non-null   object \n",
      " 1   fixed acidity         4760 non-null   float64\n",
      " 2   volatile acidity      4764 non-null   float64\n",
      " 3   citric acid           4766 non-null   float64\n",
      " 4   residual sugar        4767 non-null   float64\n",
      " 5   chlorides             4766 non-null   float64\n",
      " 6   free sulfur dioxide   4768 non-null   float64\n",
      " 7   total sulfur dioxide  4768 non-null   float64\n",
      " 8   density               4768 non-null   float64\n",
      " 9   pH                    4762 non-null   float64\n",
      " 10  sulphates             4764 non-null   float64\n",
      " 11  alcohol               4768 non-null   float64\n",
      " 12  best quality          4768 non-null   object \n",
      "dtypes: float64(11), object(2)\n",
      "memory usage: 484.4+ KB\n"
     ]
    }
   ],
   "source": [
    "df.info()"
   ]
  },
  {
   "cell_type": "markdown",
   "id": "84d2ffd1-8a78-42b4-83c3-54985f3285be",
   "metadata": {},
   "source": [
    "# Statistics of dataset"
   ]
  },
  {
   "cell_type": "code",
   "execution_count": 6,
   "id": "ae71c62c-eab5-4361-b99d-def07665c4c8",
   "metadata": {},
   "outputs": [
    {
     "data": {
      "text/html": [
       "<div>\n",
       "<style scoped>\n",
       "    .dataframe tbody tr th:only-of-type {\n",
       "        vertical-align: middle;\n",
       "    }\n",
       "\n",
       "    .dataframe tbody tr th {\n",
       "        vertical-align: top;\n",
       "    }\n",
       "\n",
       "    .dataframe thead th {\n",
       "        text-align: right;\n",
       "    }\n",
       "</style>\n",
       "<table border=\"1\" class=\"dataframe\">\n",
       "  <thead>\n",
       "    <tr style=\"text-align: right;\">\n",
       "      <th></th>\n",
       "      <th>fixed acidity</th>\n",
       "      <th>volatile acidity</th>\n",
       "      <th>citric acid</th>\n",
       "      <th>residual sugar</th>\n",
       "      <th>chlorides</th>\n",
       "      <th>free sulfur dioxide</th>\n",
       "      <th>total sulfur dioxide</th>\n",
       "      <th>density</th>\n",
       "      <th>pH</th>\n",
       "      <th>sulphates</th>\n",
       "      <th>alcohol</th>\n",
       "    </tr>\n",
       "  </thead>\n",
       "  <tbody>\n",
       "    <tr>\n",
       "      <th>count</th>\n",
       "      <td>4760.000000</td>\n",
       "      <td>4764.000000</td>\n",
       "      <td>4766.000000</td>\n",
       "      <td>4767.000000</td>\n",
       "      <td>4766.000000</td>\n",
       "      <td>4768.000000</td>\n",
       "      <td>4768.000000</td>\n",
       "      <td>4768.000000</td>\n",
       "      <td>4762.000000</td>\n",
       "      <td>4764.000000</td>\n",
       "      <td>4768.000000</td>\n",
       "    </tr>\n",
       "    <tr>\n",
       "      <th>mean</th>\n",
       "      <td>7.244391</td>\n",
       "      <td>0.351553</td>\n",
       "      <td>0.316225</td>\n",
       "      <td>5.526002</td>\n",
       "      <td>0.057923</td>\n",
       "      <td>30.296351</td>\n",
       "      <td>116.654572</td>\n",
       "      <td>0.994933</td>\n",
       "      <td>3.216170</td>\n",
       "      <td>0.529530</td>\n",
       "      <td>10.359237</td>\n",
       "    </tr>\n",
       "    <tr>\n",
       "      <th>std</th>\n",
       "      <td>1.291771</td>\n",
       "      <td>0.171212</td>\n",
       "      <td>0.151252</td>\n",
       "      <td>4.864268</td>\n",
       "      <td>0.037664</td>\n",
       "      <td>18.201756</td>\n",
       "      <td>57.661825</td>\n",
       "      <td>0.002961</td>\n",
       "      <td>0.160482</td>\n",
       "      <td>0.148424</td>\n",
       "      <td>1.157506</td>\n",
       "    </tr>\n",
       "    <tr>\n",
       "      <th>min</th>\n",
       "      <td>3.800000</td>\n",
       "      <td>0.080000</td>\n",
       "      <td>0.000000</td>\n",
       "      <td>0.600000</td>\n",
       "      <td>0.009000</td>\n",
       "      <td>1.000000</td>\n",
       "      <td>6.000000</td>\n",
       "      <td>0.987110</td>\n",
       "      <td>2.740000</td>\n",
       "      <td>0.220000</td>\n",
       "      <td>8.000000</td>\n",
       "    </tr>\n",
       "    <tr>\n",
       "      <th>25%</th>\n",
       "      <td>6.400000</td>\n",
       "      <td>0.230000</td>\n",
       "      <td>0.240000</td>\n",
       "      <td>1.800000</td>\n",
       "      <td>0.039000</td>\n",
       "      <td>16.000000</td>\n",
       "      <td>76.000000</td>\n",
       "      <td>0.992700</td>\n",
       "      <td>3.110000</td>\n",
       "      <td>0.430000</td>\n",
       "      <td>9.400000</td>\n",
       "    </tr>\n",
       "    <tr>\n",
       "      <th>50%</th>\n",
       "      <td>7.000000</td>\n",
       "      <td>0.300000</td>\n",
       "      <td>0.310000</td>\n",
       "      <td>3.000000</td>\n",
       "      <td>0.048000</td>\n",
       "      <td>28.000000</td>\n",
       "      <td>119.000000</td>\n",
       "      <td>0.995200</td>\n",
       "      <td>3.200000</td>\n",
       "      <td>0.500000</td>\n",
       "      <td>10.100000</td>\n",
       "    </tr>\n",
       "    <tr>\n",
       "      <th>75%</th>\n",
       "      <td>7.700000</td>\n",
       "      <td>0.420000</td>\n",
       "      <td>0.390000</td>\n",
       "      <td>8.200000</td>\n",
       "      <td>0.068000</td>\n",
       "      <td>41.000000</td>\n",
       "      <td>158.000000</td>\n",
       "      <td>0.997182</td>\n",
       "      <td>3.320000</td>\n",
       "      <td>0.600000</td>\n",
       "      <td>11.100000</td>\n",
       "    </tr>\n",
       "    <tr>\n",
       "      <th>max</th>\n",
       "      <td>15.900000</td>\n",
       "      <td>1.580000</td>\n",
       "      <td>1.660000</td>\n",
       "      <td>65.800000</td>\n",
       "      <td>0.611000</td>\n",
       "      <td>289.000000</td>\n",
       "      <td>440.000000</td>\n",
       "      <td>1.038980</td>\n",
       "      <td>4.010000</td>\n",
       "      <td>2.000000</td>\n",
       "      <td>14.900000</td>\n",
       "    </tr>\n",
       "  </tbody>\n",
       "</table>\n",
       "</div>"
      ],
      "text/plain": [
       "       fixed acidity  volatile acidity  citric acid  residual sugar  \\\n",
       "count    4760.000000       4764.000000  4766.000000     4767.000000   \n",
       "mean        7.244391          0.351553     0.316225        5.526002   \n",
       "std         1.291771          0.171212     0.151252        4.864268   \n",
       "min         3.800000          0.080000     0.000000        0.600000   \n",
       "25%         6.400000          0.230000     0.240000        1.800000   \n",
       "50%         7.000000          0.300000     0.310000        3.000000   \n",
       "75%         7.700000          0.420000     0.390000        8.200000   \n",
       "max        15.900000          1.580000     1.660000       65.800000   \n",
       "\n",
       "         chlorides  free sulfur dioxide  total sulfur dioxide      density  \\\n",
       "count  4766.000000          4768.000000           4768.000000  4768.000000   \n",
       "mean      0.057923            30.296351            116.654572     0.994933   \n",
       "std       0.037664            18.201756             57.661825     0.002961   \n",
       "min       0.009000             1.000000              6.000000     0.987110   \n",
       "25%       0.039000            16.000000             76.000000     0.992700   \n",
       "50%       0.048000            28.000000            119.000000     0.995200   \n",
       "75%       0.068000            41.000000            158.000000     0.997182   \n",
       "max       0.611000           289.000000            440.000000     1.038980   \n",
       "\n",
       "                pH    sulphates      alcohol  \n",
       "count  4762.000000  4764.000000  4768.000000  \n",
       "mean      3.216170     0.529530    10.359237  \n",
       "std       0.160482     0.148424     1.157506  \n",
       "min       2.740000     0.220000     8.000000  \n",
       "25%       3.110000     0.430000     9.400000  \n",
       "50%       3.200000     0.500000    10.100000  \n",
       "75%       3.320000     0.600000    11.100000  \n",
       "max       4.010000     2.000000    14.900000  "
      ]
     },
     "execution_count": 6,
     "metadata": {},
     "output_type": "execute_result"
    }
   ],
   "source": [
    "df.describe()"
   ]
  },
  {
   "cell_type": "markdown",
   "id": "106e5c4a-330a-44c5-8758-9a1e3c1b12f1",
   "metadata": {},
   "source": [
    "# Value count"
   ]
  },
  {
   "cell_type": "markdown",
   "id": "c9d038a8-8e6b-460f-b602-59a6a7b2ee20",
   "metadata": {},
   "source": [
    "#### 1) type"
   ]
  },
  {
   "cell_type": "code",
   "execution_count": 7,
   "id": "4e49522b-ece3-4b6c-b786-c638322d7e7f",
   "metadata": {},
   "outputs": [
    {
     "data": {
      "text/plain": [
       "type\n",
       "white    3533\n",
       "red      1235\n",
       "Name: count, dtype: int64"
      ]
     },
     "execution_count": 7,
     "metadata": {},
     "output_type": "execute_result"
    }
   ],
   "source": [
    "df[\"type\"].value_counts()"
   ]
  },
  {
   "cell_type": "markdown",
   "id": "bb71c613-d146-4dea-a1eb-98b1d47185a0",
   "metadata": {},
   "source": [
    "#### 2) fixed acidity"
   ]
  },
  {
   "cell_type": "code",
   "execution_count": 8,
   "id": "277a6c61-6a89-4092-8128-091ca1adf36a",
   "metadata": {},
   "outputs": [
    {
     "data": {
      "text/plain": [
       "fixed acidity\n",
       "6.8     261\n",
       "6.6     239\n",
       "6.4     223\n",
       "7.2     211\n",
       "7.0     207\n",
       "       ... \n",
       "13.0      1\n",
       "12.1      1\n",
       "15.9      1\n",
       "13.5      1\n",
       "13.4      1\n",
       "Name: count, Length: 101, dtype: int64"
      ]
     },
     "execution_count": 8,
     "metadata": {},
     "output_type": "execute_result"
    }
   ],
   "source": [
    "df[\"fixed acidity\"].value_counts()"
   ]
  },
  {
   "cell_type": "markdown",
   "id": "9ef3cdb1-883f-49c2-9412-349e3ff5a65d",
   "metadata": {},
   "source": [
    "#### 3) volatile acidity"
   ]
  },
  {
   "cell_type": "code",
   "execution_count": 9,
   "id": "1cd2b73d-1732-47dc-9907-79cbf8279a65",
   "metadata": {},
   "outputs": [
    {
     "data": {
      "text/plain": [
       "volatile acidity\n",
       "0.280    209\n",
       "0.260    186\n",
       "0.240    186\n",
       "0.250    175\n",
       "0.300    167\n",
       "        ... \n",
       "0.890      1\n",
       "0.860      1\n",
       "0.795      1\n",
       "0.425      1\n",
       "1.010      1\n",
       "Name: count, Length: 185, dtype: int64"
      ]
     },
     "execution_count": 9,
     "metadata": {},
     "output_type": "execute_result"
    }
   ],
   "source": [
    "df[\"volatile acidity\"].value_counts()"
   ]
  },
  {
   "cell_type": "markdown",
   "id": "18644618-1b38-4c6a-8fad-31a89dbcae2c",
   "metadata": {},
   "source": [
    "#### 4) citric acid"
   ]
  },
  {
   "cell_type": "code",
   "execution_count": 10,
   "id": "15eaa11a-74ba-4577-ba87-ffab94d9ecc6",
   "metadata": {},
   "outputs": [
    {
     "data": {
      "text/plain": [
       "citric acid\n",
       "0.30    229\n",
       "0.28    207\n",
       "0.49    202\n",
       "0.26    194\n",
       "0.32    194\n",
       "       ... \n",
       "0.91      2\n",
       "0.86      1\n",
       "0.88      1\n",
       "1.66      1\n",
       "0.75      1\n",
       "Name: count, Length: 87, dtype: int64"
      ]
     },
     "execution_count": 10,
     "metadata": {},
     "output_type": "execute_result"
    }
   ],
   "source": [
    "df[\"citric acid\"].value_counts()"
   ]
  },
  {
   "cell_type": "markdown",
   "id": "02a64447-87bf-41e3-a389-af26a3bbd761",
   "metadata": {},
   "source": [
    "#### 5) residual sugar"
   ]
  },
  {
   "cell_type": "code",
   "execution_count": 11,
   "id": "174ae833-a153-4831-ad29-8c4c905dd51d",
   "metadata": {},
   "outputs": [
    {
     "data": {
      "text/plain": [
       "residual sugar\n",
       "1.60     172\n",
       "2.00     172\n",
       "1.80     170\n",
       "1.40     156\n",
       "1.70     137\n",
       "        ... \n",
       "5.85       1\n",
       "16.50      1\n",
       "16.90      1\n",
       "5.35       1\n",
       "7.45       1\n",
       "Name: count, Length: 298, dtype: int64"
      ]
     },
     "execution_count": 11,
     "metadata": {},
     "output_type": "execute_result"
    }
   ],
   "source": [
    "df[\"residual sugar\"].value_counts()"
   ]
  },
  {
   "cell_type": "markdown",
   "id": "8c752b02-d893-47c2-8028-f88f9bd3f49e",
   "metadata": {},
   "source": [
    "#### 6) chlorides"
   ]
  },
  {
   "cell_type": "code",
   "execution_count": 12,
   "id": "2bbbf2ba-b08e-43c3-8702-dcfcf06f90a4",
   "metadata": {},
   "outputs": [
    {
     "data": {
      "text/plain": [
       "chlorides\n",
       "0.046    142\n",
       "0.042    139\n",
       "0.036    138\n",
       "0.050    138\n",
       "0.048    138\n",
       "        ... \n",
       "0.236      1\n",
       "0.240      1\n",
       "0.290      1\n",
       "0.178      1\n",
       "0.332      1\n",
       "Name: count, Length: 208, dtype: int64"
      ]
     },
     "execution_count": 12,
     "metadata": {},
     "output_type": "execute_result"
    }
   ],
   "source": [
    "df[\"chlorides\"].value_counts()"
   ]
  },
  {
   "cell_type": "markdown",
   "id": "4851f4c4-56c2-4228-82af-8ad3d688eb50",
   "metadata": {},
   "source": [
    "#### 7) free sulfur dioxide"
   ]
  },
  {
   "cell_type": "code",
   "execution_count": 13,
   "id": "303b50cb-3ef8-40e3-8cc2-204d488a99d1",
   "metadata": {},
   "outputs": [
    {
     "data": {
      "text/plain": [
       "free sulfur dioxide\n",
       "15.0    127\n",
       "29.0    120\n",
       "6.0     120\n",
       "24.0    116\n",
       "26.0    113\n",
       "       ... \n",
       "61.5      1\n",
       "51.5      1\n",
       "28.5      1\n",
       "43.5      1\n",
       "64.5      1\n",
       "Name: count, Length: 128, dtype: int64"
      ]
     },
     "execution_count": 13,
     "metadata": {},
     "output_type": "execute_result"
    }
   ],
   "source": [
    "df[\"free sulfur dioxide\"].value_counts()"
   ]
  },
  {
   "cell_type": "markdown",
   "id": "7dff5072-bcad-4cef-aecd-98a44eaa8688",
   "metadata": {},
   "source": [
    "#### 8) total sulfur dioxide"
   ]
  },
  {
   "cell_type": "code",
   "execution_count": 14,
   "id": "24cd9541-e137-4d6e-8560-b3178bd52832",
   "metadata": {},
   "outputs": [
    {
     "data": {
      "text/plain": [
       "total sulfur dioxide\n",
       "111.0    48\n",
       "113.0    47\n",
       "133.0    46\n",
       "128.0    44\n",
       "124.0    43\n",
       "         ..\n",
       "344.0     1\n",
       "307.5     1\n",
       "234.5     1\n",
       "366.5     1\n",
       "189.5     1\n",
       "Name: count, Length: 271, dtype: int64"
      ]
     },
     "execution_count": 14,
     "metadata": {},
     "output_type": "execute_result"
    }
   ],
   "source": [
    "df[\"total sulfur dioxide\"].value_counts()"
   ]
  },
  {
   "cell_type": "markdown",
   "id": "3fb9dbaf-4ec1-4f30-b772-eb07d75f68c4",
   "metadata": {},
   "source": [
    "#### 9) density"
   ]
  },
  {
   "cell_type": "code",
   "execution_count": 15,
   "id": "15ae76e1-b133-4960-bf32-175ae5fc1aa6",
   "metadata": {},
   "outputs": [
    {
     "data": {
      "text/plain": [
       "density\n",
       "0.99800    56\n",
       "0.99760    53\n",
       "0.99280    51\n",
       "0.99680    51\n",
       "0.99860    50\n",
       "           ..\n",
       "0.99908     1\n",
       "0.99264     1\n",
       "0.99302     1\n",
       "0.99375     1\n",
       "0.99695     1\n",
       "Name: count, Length: 920, dtype: int64"
      ]
     },
     "execution_count": 15,
     "metadata": {},
     "output_type": "execute_result"
    }
   ],
   "source": [
    "df[\"density\"].value_counts()"
   ]
  },
  {
   "cell_type": "markdown",
   "id": "be0ef319-f570-43a3-a824-34953e31f1da",
   "metadata": {},
   "source": [
    "#### 10) pH"
   ]
  },
  {
   "cell_type": "code",
   "execution_count": 16,
   "id": "dd929eb6-e65a-49ef-b8cf-421e365c6a4d",
   "metadata": {},
   "outputs": [
    {
     "data": {
      "text/plain": [
       "pH\n",
       "3.14    150\n",
       "3.16    145\n",
       "3.22    141\n",
       "3.18    132\n",
       "3.15    129\n",
       "       ... \n",
       "3.64      1\n",
       "3.78      1\n",
       "4.01      1\n",
       "3.70      1\n",
       "3.76      1\n",
       "Name: count, Length: 103, dtype: int64"
      ]
     },
     "execution_count": 16,
     "metadata": {},
     "output_type": "execute_result"
    }
   ],
   "source": [
    "df[\"pH\"].value_counts()"
   ]
  },
  {
   "cell_type": "markdown",
   "id": "ff1fb54e-b927-45d5-9673-036286922db5",
   "metadata": {},
   "source": [
    "#### 11) sulphates"
   ]
  },
  {
   "cell_type": "code",
   "execution_count": 17,
   "id": "627d2812-eece-41f7-a0d2-2a584ce1e537",
   "metadata": {},
   "outputs": [
    {
     "data": {
      "text/plain": [
       "sulphates\n",
       "0.50    204\n",
       "0.46    186\n",
       "0.44    170\n",
       "0.54    169\n",
       "0.48    169\n",
       "       ... \n",
       "1.22      1\n",
       "1.12      1\n",
       "1.20      1\n",
       "1.56      1\n",
       "1.13      1\n",
       "Name: count, Length: 107, dtype: int64"
      ]
     },
     "execution_count": 17,
     "metadata": {},
     "output_type": "execute_result"
    }
   ],
   "source": [
    "df[\"sulphates\"].value_counts()"
   ]
  },
  {
   "cell_type": "markdown",
   "id": "e7c3e7ec-159d-4562-8f43-7a96edb6427e",
   "metadata": {},
   "source": [
    "#### 12) alcohol "
   ]
  },
  {
   "cell_type": "code",
   "execution_count": 18,
   "id": "a2dfe1a4-4152-4793-901c-769d31026bf4",
   "metadata": {},
   "outputs": [
    {
     "data": {
      "text/plain": [
       "alcohol\n",
       "9.500000     314\n",
       "9.400000     284\n",
       "9.200000     234\n",
       "10.000000    186\n",
       "9.000000     176\n",
       "            ... \n",
       "9.050000       1\n",
       "10.033333      1\n",
       "10.650000      1\n",
       "11.550000      1\n",
       "11.733333      1\n",
       "Name: count, Length: 98, dtype: int64"
      ]
     },
     "execution_count": 18,
     "metadata": {},
     "output_type": "execute_result"
    }
   ],
   "source": [
    "df[\"alcohol\"].value_counts()"
   ]
  },
  {
   "cell_type": "markdown",
   "id": "e3e67f01-872d-4a55-8acc-9b8c6c67fb49",
   "metadata": {},
   "source": [
    "#### 13) best quality"
   ]
  },
  {
   "cell_type": "code",
   "execution_count": 19,
   "id": "58b7d3df-a349-42f1-8755-6d45b4e9f736",
   "metadata": {},
   "outputs": [
    {
     "data": {
      "text/plain": [
       "best quality\n",
       "Bad for Health     2384\n",
       "Good for Health    2384\n",
       "Name: count, dtype: int64"
      ]
     },
     "execution_count": 19,
     "metadata": {},
     "output_type": "execute_result"
    }
   ],
   "source": [
    "df[\"best quality\"].value_counts()"
   ]
  },
  {
   "cell_type": "markdown",
   "id": "af04fd72-4943-45b4-848c-819d4a82faf0",
   "metadata": {},
   "source": [
    "# Null value"
   ]
  },
  {
   "cell_type": "code",
   "execution_count": 20,
   "id": "7e06285f-30cf-4562-bb8e-dd0a24ad890d",
   "metadata": {},
   "outputs": [
    {
     "data": {
      "text/plain": [
       "type                    0\n",
       "fixed acidity           8\n",
       "volatile acidity        4\n",
       "citric acid             2\n",
       "residual sugar          1\n",
       "chlorides               2\n",
       "free sulfur dioxide     0\n",
       "total sulfur dioxide    0\n",
       "density                 0\n",
       "pH                      6\n",
       "sulphates               4\n",
       "alcohol                 0\n",
       "best quality            0\n",
       "dtype: int64"
      ]
     },
     "execution_count": 20,
     "metadata": {},
     "output_type": "execute_result"
    }
   ],
   "source": [
    "df.isnull().sum()"
   ]
  },
  {
   "cell_type": "code",
   "execution_count": 21,
   "id": "bd999afd-eaf6-4ed2-b31a-3240e4a0d01e",
   "metadata": {},
   "outputs": [
    {
     "name": "stdout",
     "output_type": "stream",
     "text": [
      "<class 'pandas.core.frame.DataFrame'>\n",
      "RangeIndex: 4768 entries, 0 to 4767\n",
      "Data columns (total 13 columns):\n",
      " #   Column                Non-Null Count  Dtype  \n",
      "---  ------                --------------  -----  \n",
      " 0   type                  4768 non-null   object \n",
      " 1   fixed acidity         4760 non-null   float64\n",
      " 2   volatile acidity      4764 non-null   float64\n",
      " 3   citric acid           4766 non-null   float64\n",
      " 4   residual sugar        4767 non-null   float64\n",
      " 5   chlorides             4766 non-null   float64\n",
      " 6   free sulfur dioxide   4768 non-null   float64\n",
      " 7   total sulfur dioxide  4768 non-null   float64\n",
      " 8   density               4768 non-null   float64\n",
      " 9   pH                    4762 non-null   float64\n",
      " 10  sulphates             4764 non-null   float64\n",
      " 11  alcohol               4768 non-null   float64\n",
      " 12  best quality          4768 non-null   object \n",
      "dtypes: float64(11), object(2)\n",
      "memory usage: 484.4+ KB\n"
     ]
    }
   ],
   "source": [
    "df.info()"
   ]
  },
  {
   "cell_type": "markdown",
   "id": "f3e668f4-9d2b-4843-a55f-35a5e52d81cd",
   "metadata": {},
   "source": [
    "# Handling Null values."
   ]
  },
  {
   "cell_type": "markdown",
   "id": "1b81d4a2-c709-4fd1-a4cc-20808757eac8",
   "metadata": {},
   "source": [
    "#### 1) fixed acidity\t"
   ]
  },
  {
   "cell_type": "code",
   "execution_count": 22,
   "id": "a2afd655-9f33-4ab8-8dd8-2ea1b4fb06d2",
   "metadata": {},
   "outputs": [
    {
     "name": "stdout",
     "output_type": "stream",
     "text": [
      "0\n"
     ]
    }
   ],
   "source": [
    "df[\"fixed acidity\"].fillna(df[\"fixed acidity\"].mean(),inplace=True)\n",
    "print(df[\"fixed acidity\"].isnull().sum())"
   ]
  },
  {
   "cell_type": "markdown",
   "id": "d8a85ce9-58f9-4b11-9f46-a62ddc0d8467",
   "metadata": {},
   "source": [
    "#### 2) volatile acidity\t"
   ]
  },
  {
   "cell_type": "code",
   "execution_count": 23,
   "id": "e5d3ea1f-ddc4-47cd-876d-68ab7e900b4e",
   "metadata": {},
   "outputs": [
    {
     "name": "stdout",
     "output_type": "stream",
     "text": [
      "0\n"
     ]
    }
   ],
   "source": [
    "df[\"volatile acidity\"].fillna(df[\"volatile acidity\"].mean(),inplace=True)\n",
    "print(df[\"volatile acidity\"].isnull().sum())"
   ]
  },
  {
   "cell_type": "markdown",
   "id": "cc06f943-9991-4c12-87e1-89e1b46b05fe",
   "metadata": {},
   "source": [
    "#### 3) citric acid\t"
   ]
  },
  {
   "cell_type": "code",
   "execution_count": 24,
   "id": "23d8b8e4-5c64-4ec4-aec5-a45e9c7b080c",
   "metadata": {},
   "outputs": [
    {
     "name": "stdout",
     "output_type": "stream",
     "text": [
      "0\n"
     ]
    }
   ],
   "source": [
    "df[\"citric acid\"].fillna(df[\"citric acid\"].mean(),inplace=True)\n",
    "print(df[\"citric acid\"].isnull().sum())"
   ]
  },
  {
   "cell_type": "markdown",
   "id": "7a7bf58c-f79c-494f-a530-ad483b30e9c4",
   "metadata": {},
   "source": [
    "#### 4) residual sugar\t"
   ]
  },
  {
   "cell_type": "code",
   "execution_count": 25,
   "id": "4a05649c-c872-4b27-b4a2-2aa4aedda8b5",
   "metadata": {},
   "outputs": [
    {
     "name": "stdout",
     "output_type": "stream",
     "text": [
      "0\n"
     ]
    }
   ],
   "source": [
    "df[\"residual sugar\"].fillna(df[\"residual sugar\"].mean(),inplace=True)\n",
    "print(df[\"residual sugar\"].isnull().sum())"
   ]
  },
  {
   "cell_type": "markdown",
   "id": "b801f055-1d13-48ef-af23-d6bc4d873594",
   "metadata": {},
   "source": [
    "#### 5) chlorides"
   ]
  },
  {
   "cell_type": "code",
   "execution_count": 26,
   "id": "6613b4e9-c255-423d-9fd0-1d8856e0edba",
   "metadata": {},
   "outputs": [
    {
     "name": "stdout",
     "output_type": "stream",
     "text": [
      "0\n"
     ]
    }
   ],
   "source": [
    "df[\"chlorides\"].fillna(df[\"chlorides\"].mean(),inplace=True)\n",
    "print(df[\"chlorides\"].isnull().sum())"
   ]
  },
  {
   "cell_type": "markdown",
   "id": "6c4771ac-4c6c-4815-872f-ff9e2f8ccf14",
   "metadata": {},
   "source": [
    "#### 6) pH"
   ]
  },
  {
   "cell_type": "code",
   "execution_count": 27,
   "id": "f379cad8-86ee-46ec-bfda-cbd73398c833",
   "metadata": {},
   "outputs": [
    {
     "name": "stdout",
     "output_type": "stream",
     "text": [
      "0\n"
     ]
    }
   ],
   "source": [
    "df[\"pH\"].fillna(df[\"pH\"].mean(),inplace=True)\n",
    "print(df[\"pH\"].isnull().sum())"
   ]
  },
  {
   "cell_type": "markdown",
   "id": "76c909e6-5fc3-4b95-bd4f-00df8e01aaf6",
   "metadata": {},
   "source": [
    "#### 7) sulphates"
   ]
  },
  {
   "cell_type": "code",
   "execution_count": 28,
   "id": "3c7c73d2-f1f9-4c17-b34e-c1e12ea4ff41",
   "metadata": {},
   "outputs": [
    {
     "name": "stdout",
     "output_type": "stream",
     "text": [
      "0\n"
     ]
    }
   ],
   "source": [
    "df[\"sulphates\"].fillna(df[\"sulphates\"].mean(),inplace=True)\n",
    "print(df[\"sulphates\"].isnull().sum())"
   ]
  },
  {
   "cell_type": "markdown",
   "id": "3d16b419-8846-4a32-8850-7808e537f82f",
   "metadata": {},
   "source": [
    "# Handling the Outliers"
   ]
  },
  {
   "cell_type": "code",
   "execution_count": 29,
   "id": "de551ed8-97e5-4ebc-b2c0-a83852acab3f",
   "metadata": {},
   "outputs": [
    {
     "data": {
      "image/png": "[encoded data removed]",
      "text/plain": [
       "<Figure size 400x300 with 1 Axes>"
      ]
     },
     "metadata": {},
     "output_type": "display_data"
    },
    {
     "name": "stdout",
     "output_type": "stream",
     "text": [
      "for column fixed acidity\n",
      "IQR----- 1.2999999999999998\n",
      "Upper Whisker--- 9.65\n",
      "Lower Whisker--- 4.450000000000001\n"
     ]
    },
    {
     "data": {
      "image/png": "[encoded data removed]",
      "text/plain": [
       "<Figure size 400x300 with 1 Axes>"
      ]
     },
     "metadata": {},
     "output_type": "display_data"
    },
    {
     "data": {
      "image/png": "[encoded data removed]",
      "text/plain": [
       "<Figure size 400x300 with 1 Axes>"
      ]
     },
     "metadata": {},
     "output_type": "display_data"
    },
    {
     "name": "stdout",
     "output_type": "stream",
     "text": [
      "for column volatile acidity\n",
      "IQR----- 0.18999999999999997\n",
      "Upper Whisker--- 0.705\n",
      "Lower Whisker--- -0.054999999999999966\n"
     ]
    },
    {
     "data": {
      "image/png": "[encoded data removed]",
      "text/plain": [
       "<Figure size 400x300 with 1 Axes>"
      ]
     },
     "metadata": {},
     "output_type": "display_data"
    },
    {
     "data": {
      "image/png": "[encoded data removed]",
      "text/plain": [
       "<Figure size 400x300 with 1 Axes>"
      ]
     },
     "metadata": {},
     "output_type": "display_data"
    },
    {
     "name": "stdout",
     "output_type": "stream",
     "text": [
      "for column citric acid\n",
      "IQR----- 0.15000000000000002\n",
      "Upper Whisker--- 0.615\n",
      "Lower Whisker--- 0.014999999999999958\n"
     ]
    },
    {
     "data": {
      "image/png": "[encoded data removed]",
      "text/plain": [
       "<Figure size 400x300 with 1 Axes>"
      ]
     },
     "metadata": {},
     "output_type": "display_data"
    },
    {
     "data": {
      "image/png": "[encoded data removed]",
      "text/plain": [
       "<Figure size 400x300 with 1 Axes>"
      ]
     },
     "metadata": {},
     "output_type": "display_data"
    },
    {
     "name": "stdout",
     "output_type": "stream",
     "text": [
      "for column residual sugar\n",
      "IQR----- 6.3999999999999995\n",
      "Upper Whisker--- 17.799999999999997\n",
      "Lower Whisker--- -7.8\n"
     ]
    },
    {
     "data": {
      "image/png": "[encoded data removed]",
      "text/plain": [
       "<Figure size 400x300 with 1 Axes>"
      ]
     },
     "metadata": {},
     "output_type": "display_data"
    },
    {
     "data": {
      "image/png": "[encoded data removed]",
      "text/plain": [
       "<Figure size 400x300 with 1 Axes>"
      ]
     },
     "metadata": {},
     "output_type": "display_data"
    },
    {
     "name": "stdout",
     "output_type": "stream",
     "text": [
      "for column chlorides\n",
      "IQR----- 0.029000000000000005\n",
      "Upper Whisker--- 0.11150000000000002\n",
      "Lower Whisker--- -0.004500000000000011\n"
     ]
    },
    {
     "data": {
      "image/png": "[encoded data removed]",
      "text/plain": [
       "<Figure size 400x300 with 1 Axes>"
      ]
     },
     "metadata": {},
     "output_type": "display_data"
    },
    {
     "data": {
      "image/png": "[encoded data removed]",
      "text/plain": [
       "<Figure size 400x300 with 1 Axes>"
      ]
     },
     "metadata": {},
     "output_type": "display_data"
    },
    {
     "name": "stdout",
     "output_type": "stream",
     "text": [
      "for column free sulfur dioxide\n",
      "IQR----- 25.0\n",
      "Upper Whisker--- 78.5\n",
      "Lower Whisker--- -21.5\n"
     ]
    },
    {
     "data": {
      "image/png": "[encoded data removed]",
      "text/plain": [
       "<Figure size 400x300 with 1 Axes>"
      ]
     },
     "metadata": {},
     "output_type": "display_data"
    },
    {
     "data": {
      "image/png": "[encoded data removed]",
      "text/plain": [
       "<Figure size 400x300 with 1 Axes>"
      ]
     },
     "metadata": {},
     "output_type": "display_data"
    },
    {
     "name": "stdout",
     "output_type": "stream",
     "text": [
      "for column total sulfur dioxide\n",
      "IQR----- 82.0\n",
      "Upper Whisker--- 281.0\n",
      "Lower Whisker--- -47.0\n"
     ]
    },
    {
     "data": {
      "image/png": "[encoded data removed]",
      "text/plain": [
       "<Figure size 400x300 with 1 Axes>"
      ]
     },
     "metadata": {},
     "output_type": "display_data"
    },
    {
     "data": {
      "image/png": "[encoded data removed]",
      "text/plain": [
       "<Figure size 400x300 with 1 Axes>"
      ]
     },
     "metadata": {},
     "output_type": "display_data"
    },
    {
     "name": "stdout",
     "output_type": "stream",
     "text": [
      "for column density\n",
      "IQR----- 0.004482499999999945\n",
      "Upper Whisker--- 1.00390625\n",
      "Lower Whisker--- 0.9859762500000001\n"
     ]
    },
    {
     "data": {
      "image/png": "[encoded data removed]",
      "text/plain": [
       "<Figure size 400x300 with 1 Axes>"
      ]
     },
     "metadata": {},
     "output_type": "display_data"
    },
    {
     "data": {
      "image/png": "[encoded data removed]",
      "text/plain": [
       "<Figure size 400x300 with 1 Axes>"
      ]
     },
     "metadata": {},
     "output_type": "display_data"
    },
    {
     "name": "stdout",
     "output_type": "stream",
     "text": [
      "for column pH\n",
      "IQR----- 0.20999999999999996\n",
      "Upper Whisker--- 3.635\n",
      "Lower Whisker--- 2.795\n"
     ]
    },
    {
     "data": {
      "image/png": "[encoded data removed]",
      "text/plain": [
       "<Figure size 400x300 with 1 Axes>"
      ]
     },
     "metadata": {},
     "output_type": "display_data"
    },
    {
     "data": {
      "image/png": "[encoded data removed]",
      "text/plain": [
       "<Figure size 400x300 with 1 Axes>"
      ]
     },
     "metadata": {},
     "output_type": "display_data"
    },
    {
     "name": "stdout",
     "output_type": "stream",
     "text": [
      "for column sulphates\n",
      "IQR----- 0.16999999999999998\n",
      "Upper Whisker--- 0.855\n",
      "Lower Whisker--- 0.175\n"
     ]
    },
    {
     "data": {
      "image/png": "[encoded data removed]",
      "text/plain": [
       "<Figure size 400x300 with 1 Axes>"
      ]
     },
     "metadata": {},
     "output_type": "display_data"
    },
    {
     "data": {
      "image/png": "[encoded data removed]",
      "text/plain": [
       "<Figure size 400x300 with 1 Axes>"
      ]
     },
     "metadata": {},
     "output_type": "display_data"
    },
    {
     "name": "stdout",
     "output_type": "stream",
     "text": [
      "for column alcohol\n",
      "IQR----- 1.6999999999999993\n",
      "Upper Whisker--- 13.649999999999999\n",
      "Lower Whisker--- 6.850000000000001\n"
     ]
    },
    {
     "data": {
      "image/png": "[encoded data removed]",
      "text/plain": [
       "<Figure size 400x300 with 1 Axes>"
      ]
     },
     "metadata": {},
     "output_type": "display_data"
    }
   ],
   "source": [
    "for  i in df.describe().columns:\n",
    "    plt.figure(figsize=(4,3))\n",
    "    plt.boxplot(df[i])\n",
    "    plt.title(i)\n",
    "    plt.show()\n",
    "\n",
    "    \n",
    "    q1=df[i].quantile(0.25)\n",
    "    q3=df[i].quantile(0.75)\n",
    "    iqr=q3-q1\n",
    "    uppr=q3+(1.5*iqr)\n",
    "    lower=q1-(1.5*iqr)\n",
    "    \n",
    "    print(\"for column\" ,i) \n",
    "    print(\"IQR-----\",iqr)\n",
    "    print(\"Upper Whisker---\",uppr)\n",
    "    print(\"Lower Whisker---\",lower)\n",
    "    \n",
    "    df.loc[df[i]<lower,i]=lower\n",
    "    df.loc[df[i]>uppr,i]=uppr\n",
    "    \n",
    "    plt.figure(figsize=(4,3))\n",
    "    plt.boxplot(df[i])\n",
    "    plt.title(i)\n",
    "    plt.show()"
   ]
  },
  {
   "cell_type": "markdown",
   "id": "aa73ffce-6348-495d-b775-fe7b5d8b1dd5",
   "metadata": {},
   "source": [
    "# Skewness"
   ]
  },
  {
   "cell_type": "code",
   "execution_count": 30,
   "id": "97ecb193-18c9-4187-bfb2-70bf7c14ab36",
   "metadata": {},
   "outputs": [
    {
     "name": "stdout",
     "output_type": "stream",
     "text": [
      "fixed acidity  =  0.638068355932152\n",
      "volatile acidity  =  0.9159264474751231\n",
      "citric acid  =  -0.007104434419001005\n",
      "residual sugar  =  1.0597359519446328\n",
      "chlorides  =  0.9710034862022643\n",
      "free sulfur dioxide  =  0.520213062645278\n",
      "total sulfur dioxide  =  -0.038122760234138346\n",
      "density  =  -0.08032254459973746\n",
      "pH  =  0.28267986410555795\n",
      "sulphates  =  0.683624174770289\n",
      "alcohol  =  0.691754269123784\n"
     ]
    }
   ],
   "source": [
    "for i in df.describe().columns:\n",
    "    s1=skew(df[i]) \n",
    "    print(i,\" = \",s1)"
   ]
  },
  {
   "cell_type": "markdown",
   "id": "e8d63000-bcb7-4512-aa9f-e77e5bfab64a",
   "metadata": {},
   "source": [
    "# Scalling of dataset"
   ]
  },
  {
   "cell_type": "code",
   "execution_count": 31,
   "id": "c2233813-af20-4721-a330-3aa0d8900aa6",
   "metadata": {},
   "outputs": [],
   "source": [
    "ms = MinMaxScaler()\n",
    "for i in df.describe().columns:\n",
    "    df[i]=ms.fit_transform(df[[i]])"
   ]
  },
  {
   "cell_type": "code",
   "execution_count": 32,
   "id": "14ad1df4-1a25-46e6-8e1d-51ecb95fd717",
   "metadata": {},
   "outputs": [
    {
     "data": {
      "text/html": [
       "<div>\n",
       "<style scoped>\n",
       "    .dataframe tbody tr th:only-of-type {\n",
       "        vertical-align: middle;\n",
       "    }\n",
       "\n",
       "    .dataframe tbody tr th {\n",
       "        vertical-align: top;\n",
       "    }\n",
       "\n",
       "    .dataframe thead th {\n",
       "        text-align: right;\n",
       "    }\n",
       "</style>\n",
       "<table border=\"1\" class=\"dataframe\">\n",
       "  <thead>\n",
       "    <tr style=\"text-align: right;\">\n",
       "      <th></th>\n",
       "      <th>type</th>\n",
       "      <th>fixed acidity</th>\n",
       "      <th>volatile acidity</th>\n",
       "      <th>citric acid</th>\n",
       "      <th>residual sugar</th>\n",
       "      <th>chlorides</th>\n",
       "      <th>free sulfur dioxide</th>\n",
       "      <th>total sulfur dioxide</th>\n",
       "      <th>density</th>\n",
       "      <th>pH</th>\n",
       "      <th>sulphates</th>\n",
       "      <th>alcohol</th>\n",
       "      <th>best quality</th>\n",
       "    </tr>\n",
       "  </thead>\n",
       "  <tbody>\n",
       "    <tr>\n",
       "      <th>0</th>\n",
       "      <td>white</td>\n",
       "      <td>0.701923</td>\n",
       "      <td>0.304</td>\n",
       "      <td>0.658333</td>\n",
       "      <td>0.049419</td>\n",
       "      <td>0.234146</td>\n",
       "      <td>0.129032</td>\n",
       "      <td>0.207273</td>\n",
       "      <td>0.219692</td>\n",
       "      <td>0.232143</td>\n",
       "      <td>0.535433</td>\n",
       "      <td>0.707965</td>\n",
       "      <td>Bad for Health</td>\n",
       "    </tr>\n",
       "    <tr>\n",
       "      <th>1</th>\n",
       "      <td>white</td>\n",
       "      <td>0.798077</td>\n",
       "      <td>0.240</td>\n",
       "      <td>0.641667</td>\n",
       "      <td>0.209302</td>\n",
       "      <td>0.253659</td>\n",
       "      <td>0.206452</td>\n",
       "      <td>0.374545</td>\n",
       "      <td>0.451887</td>\n",
       "      <td>0.410714</td>\n",
       "      <td>0.488189</td>\n",
       "      <td>0.300885</td>\n",
       "      <td>Bad for Health</td>\n",
       "    </tr>\n",
       "    <tr>\n",
       "      <th>2</th>\n",
       "      <td>white</td>\n",
       "      <td>0.663462</td>\n",
       "      <td>0.160</td>\n",
       "      <td>0.591667</td>\n",
       "      <td>0.034884</td>\n",
       "      <td>0.302439</td>\n",
       "      <td>0.193548</td>\n",
       "      <td>0.250909</td>\n",
       "      <td>0.291136</td>\n",
       "      <td>0.458333</td>\n",
       "      <td>0.645669</td>\n",
       "      <td>0.495575</td>\n",
       "      <td>Bad for Health</td>\n",
       "    </tr>\n",
       "    <tr>\n",
       "      <th>3</th>\n",
       "      <td>white</td>\n",
       "      <td>0.740385</td>\n",
       "      <td>0.544</td>\n",
       "      <td>1.000000</td>\n",
       "      <td>1.000000</td>\n",
       "      <td>0.302439</td>\n",
       "      <td>0.516129</td>\n",
       "      <td>0.603636</td>\n",
       "      <td>0.779341</td>\n",
       "      <td>0.220238</td>\n",
       "      <td>0.708661</td>\n",
       "      <td>0.300885</td>\n",
       "      <td>Bad for Health</td>\n",
       "    </tr>\n",
       "    <tr>\n",
       "      <th>4</th>\n",
       "      <td>white</td>\n",
       "      <td>0.394231</td>\n",
       "      <td>0.368</td>\n",
       "      <td>0.208333</td>\n",
       "      <td>0.401163</td>\n",
       "      <td>0.341463</td>\n",
       "      <td>0.425806</td>\n",
       "      <td>0.461818</td>\n",
       "      <td>0.499516</td>\n",
       "      <td>0.505952</td>\n",
       "      <td>0.440945</td>\n",
       "      <td>0.265487</td>\n",
       "      <td>Bad for Health</td>\n",
       "    </tr>\n",
       "    <tr>\n",
       "      <th>...</th>\n",
       "      <td>...</td>\n",
       "      <td>...</td>\n",
       "      <td>...</td>\n",
       "      <td>...</td>\n",
       "      <td>...</td>\n",
       "      <td>...</td>\n",
       "      <td>...</td>\n",
       "      <td>...</td>\n",
       "      <td>...</td>\n",
       "      <td>...</td>\n",
       "      <td>...</td>\n",
       "      <td>...</td>\n",
       "      <td>...</td>\n",
       "    </tr>\n",
       "    <tr>\n",
       "      <th>4763</th>\n",
       "      <td>white</td>\n",
       "      <td>0.432692</td>\n",
       "      <td>0.304</td>\n",
       "      <td>0.525000</td>\n",
       "      <td>0.174419</td>\n",
       "      <td>0.243902</td>\n",
       "      <td>0.103226</td>\n",
       "      <td>0.141818</td>\n",
       "      <td>0.257796</td>\n",
       "      <td>0.339286</td>\n",
       "      <td>0.283465</td>\n",
       "      <td>0.442478</td>\n",
       "      <td>Good for Health</td>\n",
       "    </tr>\n",
       "    <tr>\n",
       "      <th>4764</th>\n",
       "      <td>red</td>\n",
       "      <td>1.000000</td>\n",
       "      <td>0.544</td>\n",
       "      <td>0.808333</td>\n",
       "      <td>0.162791</td>\n",
       "      <td>0.956098</td>\n",
       "      <td>0.077419</td>\n",
       "      <td>0.054545</td>\n",
       "      <td>0.642405</td>\n",
       "      <td>0.553571</td>\n",
       "      <td>1.000000</td>\n",
       "      <td>0.672566</td>\n",
       "      <td>Good for Health</td>\n",
       "    </tr>\n",
       "    <tr>\n",
       "      <th>4765</th>\n",
       "      <td>white</td>\n",
       "      <td>0.394231</td>\n",
       "      <td>0.240</td>\n",
       "      <td>0.525000</td>\n",
       "      <td>0.767442</td>\n",
       "      <td>0.321951</td>\n",
       "      <td>0.309677</td>\n",
       "      <td>0.483636</td>\n",
       "      <td>0.585845</td>\n",
       "      <td>0.660714</td>\n",
       "      <td>0.535433</td>\n",
       "      <td>0.424779</td>\n",
       "      <td>Good for Health</td>\n",
       "    </tr>\n",
       "    <tr>\n",
       "      <th>4766</th>\n",
       "      <td>white</td>\n",
       "      <td>0.355769</td>\n",
       "      <td>0.944</td>\n",
       "      <td>0.775000</td>\n",
       "      <td>0.697674</td>\n",
       "      <td>0.419512</td>\n",
       "      <td>0.722581</td>\n",
       "      <td>0.785455</td>\n",
       "      <td>0.642405</td>\n",
       "      <td>0.446429</td>\n",
       "      <td>0.472441</td>\n",
       "      <td>0.230088</td>\n",
       "      <td>Good for Health</td>\n",
       "    </tr>\n",
       "    <tr>\n",
       "      <th>4767</th>\n",
       "      <td>white</td>\n",
       "      <td>0.432692</td>\n",
       "      <td>0.192</td>\n",
       "      <td>0.375000</td>\n",
       "      <td>0.343023</td>\n",
       "      <td>0.341463</td>\n",
       "      <td>0.348387</td>\n",
       "      <td>0.341818</td>\n",
       "      <td>0.379251</td>\n",
       "      <td>0.386905</td>\n",
       "      <td>0.173228</td>\n",
       "      <td>0.389381</td>\n",
       "      <td>Good for Health</td>\n",
       "    </tr>\n",
       "  </tbody>\n",
       "</table>\n",
       "<p>4768 rows × 13 columns</p>\n",
       "</div>"
      ],
      "text/plain": [
       "       type  fixed acidity  volatile acidity  citric acid  residual sugar  \\\n",
       "0     white       0.701923             0.304     0.658333        0.049419   \n",
       "1     white       0.798077             0.240     0.641667        0.209302   \n",
       "2     white       0.663462             0.160     0.591667        0.034884   \n",
       "3     white       0.740385             0.544     1.000000        1.000000   \n",
       "4     white       0.394231             0.368     0.208333        0.401163   \n",
       "...     ...            ...               ...          ...             ...   \n",
       "4763  white       0.432692             0.304     0.525000        0.174419   \n",
       "4764    red       1.000000             0.544     0.808333        0.162791   \n",
       "4765  white       0.394231             0.240     0.525000        0.767442   \n",
       "4766  white       0.355769             0.944     0.775000        0.697674   \n",
       "4767  white       0.432692             0.192     0.375000        0.343023   \n",
       "\n",
       "      chlorides  free sulfur dioxide  total sulfur dioxide   density  \\\n",
       "0      0.234146             0.129032              0.207273  0.219692   \n",
       "1      0.253659             0.206452              0.374545  0.451887   \n",
       "2      0.302439             0.193548              0.250909  0.291136   \n",
       "3      0.302439             0.516129              0.603636  0.779341   \n",
       "4      0.341463             0.425806              0.461818  0.499516   \n",
       "...         ...                  ...                   ...       ...   \n",
       "4763   0.243902             0.103226              0.141818  0.257796   \n",
       "4764   0.956098             0.077419              0.054545  0.642405   \n",
       "4765   0.321951             0.309677              0.483636  0.585845   \n",
       "4766   0.419512             0.722581              0.785455  0.642405   \n",
       "4767   0.341463             0.348387              0.341818  0.379251   \n",
       "\n",
       "            pH  sulphates   alcohol     best quality  \n",
       "0     0.232143   0.535433  0.707965   Bad for Health  \n",
       "1     0.410714   0.488189  0.300885   Bad for Health  \n",
       "2     0.458333   0.645669  0.495575   Bad for Health  \n",
       "3     0.220238   0.708661  0.300885   Bad for Health  \n",
       "4     0.505952   0.440945  0.265487   Bad for Health  \n",
       "...        ...        ...       ...              ...  \n",
       "4763  0.339286   0.283465  0.442478  Good for Health  \n",
       "4764  0.553571   1.000000  0.672566  Good for Health  \n",
       "4765  0.660714   0.535433  0.424779  Good for Health  \n",
       "4766  0.446429   0.472441  0.230088  Good for Health  \n",
       "4767  0.386905   0.173228  0.389381  Good for Health  \n",
       "\n",
       "[4768 rows x 13 columns]"
      ]
     },
     "execution_count": 32,
     "metadata": {},
     "output_type": "execute_result"
    }
   ],
   "source": [
    "df"
   ]
  },
  {
   "cell_type": "markdown",
   "id": "9b904131-1740-42a6-bede-787474a15a8a",
   "metadata": {},
   "source": [
    "# Label Encoding "
   ]
  },
  {
   "cell_type": "code",
   "execution_count": 33,
   "id": "619aa300-aa36-4d82-8775-770aacded480",
   "metadata": {},
   "outputs": [
    {
     "name": "stdout",
     "output_type": "stream",
     "text": [
      "<class 'pandas.core.frame.DataFrame'>\n",
      "RangeIndex: 4768 entries, 0 to 4767\n",
      "Data columns (total 13 columns):\n",
      " #   Column                Non-Null Count  Dtype  \n",
      "---  ------                --------------  -----  \n",
      " 0   type                  4768 non-null   object \n",
      " 1   fixed acidity         4768 non-null   float64\n",
      " 2   volatile acidity      4768 non-null   float64\n",
      " 3   citric acid           4768 non-null   float64\n",
      " 4   residual sugar        4768 non-null   float64\n",
      " 5   chlorides             4768 non-null   float64\n",
      " 6   free sulfur dioxide   4768 non-null   float64\n",
      " 7   total sulfur dioxide  4768 non-null   float64\n",
      " 8   density               4768 non-null   float64\n",
      " 9   pH                    4768 non-null   float64\n",
      " 10  sulphates             4768 non-null   float64\n",
      " 11  alcohol               4768 non-null   float64\n",
      " 12  best quality          4768 non-null   object \n",
      "dtypes: float64(11), object(2)\n",
      "memory usage: 484.4+ KB\n"
     ]
    }
   ],
   "source": [
    "df.info()"
   ]
  },
  {
   "cell_type": "code",
   "execution_count": 34,
   "id": "4dbe6080-4a62-4486-8b14-b734bd428688",
   "metadata": {},
   "outputs": [],
   "source": [
    "from sklearn.preprocessing import LabelEncoder\n",
    "le=LabelEncoder()\n",
    "df[\"type\"]=le.fit_transform(df[\"type\"])\n",
    "df[\"best quality\"]=le.fit_transform(df[\"best quality\"])"
   ]
  },
  {
   "cell_type": "code",
   "execution_count": 35,
   "id": "ba6d9fb7-5f04-42af-941a-a74e6f56100c",
   "metadata": {},
   "outputs": [
    {
     "data": {
      "text/html": [
       "<div>\n",
       "<style scoped>\n",
       "    .dataframe tbody tr th:only-of-type {\n",
       "        vertical-align: middle;\n",
       "    }\n",
       "\n",
       "    .dataframe tbody tr th {\n",
       "        vertical-align: top;\n",
       "    }\n",
       "\n",
       "    .dataframe thead th {\n",
       "        text-align: right;\n",
       "    }\n",
       "</style>\n",
       "<table border=\"1\" class=\"dataframe\">\n",
       "  <thead>\n",
       "    <tr style=\"text-align: right;\">\n",
       "      <th></th>\n",
       "      <th>type</th>\n",
       "      <th>fixed acidity</th>\n",
       "      <th>volatile acidity</th>\n",
       "      <th>citric acid</th>\n",
       "      <th>residual sugar</th>\n",
       "      <th>chlorides</th>\n",
       "      <th>free sulfur dioxide</th>\n",
       "      <th>total sulfur dioxide</th>\n",
       "      <th>density</th>\n",
       "      <th>pH</th>\n",
       "      <th>sulphates</th>\n",
       "      <th>alcohol</th>\n",
       "      <th>best quality</th>\n",
       "    </tr>\n",
       "  </thead>\n",
       "  <tbody>\n",
       "    <tr>\n",
       "      <th>0</th>\n",
       "      <td>1</td>\n",
       "      <td>0.701923</td>\n",
       "      <td>0.304</td>\n",
       "      <td>0.658333</td>\n",
       "      <td>0.049419</td>\n",
       "      <td>0.234146</td>\n",
       "      <td>0.129032</td>\n",
       "      <td>0.207273</td>\n",
       "      <td>0.219692</td>\n",
       "      <td>0.232143</td>\n",
       "      <td>0.535433</td>\n",
       "      <td>0.707965</td>\n",
       "      <td>0</td>\n",
       "    </tr>\n",
       "    <tr>\n",
       "      <th>1</th>\n",
       "      <td>1</td>\n",
       "      <td>0.798077</td>\n",
       "      <td>0.240</td>\n",
       "      <td>0.641667</td>\n",
       "      <td>0.209302</td>\n",
       "      <td>0.253659</td>\n",
       "      <td>0.206452</td>\n",
       "      <td>0.374545</td>\n",
       "      <td>0.451887</td>\n",
       "      <td>0.410714</td>\n",
       "      <td>0.488189</td>\n",
       "      <td>0.300885</td>\n",
       "      <td>0</td>\n",
       "    </tr>\n",
       "    <tr>\n",
       "      <th>2</th>\n",
       "      <td>1</td>\n",
       "      <td>0.663462</td>\n",
       "      <td>0.160</td>\n",
       "      <td>0.591667</td>\n",
       "      <td>0.034884</td>\n",
       "      <td>0.302439</td>\n",
       "      <td>0.193548</td>\n",
       "      <td>0.250909</td>\n",
       "      <td>0.291136</td>\n",
       "      <td>0.458333</td>\n",
       "      <td>0.645669</td>\n",
       "      <td>0.495575</td>\n",
       "      <td>0</td>\n",
       "    </tr>\n",
       "    <tr>\n",
       "      <th>3</th>\n",
       "      <td>1</td>\n",
       "      <td>0.740385</td>\n",
       "      <td>0.544</td>\n",
       "      <td>1.000000</td>\n",
       "      <td>1.000000</td>\n",
       "      <td>0.302439</td>\n",
       "      <td>0.516129</td>\n",
       "      <td>0.603636</td>\n",
       "      <td>0.779341</td>\n",
       "      <td>0.220238</td>\n",
       "      <td>0.708661</td>\n",
       "      <td>0.300885</td>\n",
       "      <td>0</td>\n",
       "    </tr>\n",
       "    <tr>\n",
       "      <th>4</th>\n",
       "      <td>1</td>\n",
       "      <td>0.394231</td>\n",
       "      <td>0.368</td>\n",
       "      <td>0.208333</td>\n",
       "      <td>0.401163</td>\n",
       "      <td>0.341463</td>\n",
       "      <td>0.425806</td>\n",
       "      <td>0.461818</td>\n",
       "      <td>0.499516</td>\n",
       "      <td>0.505952</td>\n",
       "      <td>0.440945</td>\n",
       "      <td>0.265487</td>\n",
       "      <td>0</td>\n",
       "    </tr>\n",
       "    <tr>\n",
       "      <th>...</th>\n",
       "      <td>...</td>\n",
       "      <td>...</td>\n",
       "      <td>...</td>\n",
       "      <td>...</td>\n",
       "      <td>...</td>\n",
       "      <td>...</td>\n",
       "      <td>...</td>\n",
       "      <td>...</td>\n",
       "      <td>...</td>\n",
       "      <td>...</td>\n",
       "      <td>...</td>\n",
       "      <td>...</td>\n",
       "      <td>...</td>\n",
       "    </tr>\n",
       "    <tr>\n",
       "      <th>4763</th>\n",
       "      <td>1</td>\n",
       "      <td>0.432692</td>\n",
       "      <td>0.304</td>\n",
       "      <td>0.525000</td>\n",
       "      <td>0.174419</td>\n",
       "      <td>0.243902</td>\n",
       "      <td>0.103226</td>\n",
       "      <td>0.141818</td>\n",
       "      <td>0.257796</td>\n",
       "      <td>0.339286</td>\n",
       "      <td>0.283465</td>\n",
       "      <td>0.442478</td>\n",
       "      <td>1</td>\n",
       "    </tr>\n",
       "    <tr>\n",
       "      <th>4764</th>\n",
       "      <td>0</td>\n",
       "      <td>1.000000</td>\n",
       "      <td>0.544</td>\n",
       "      <td>0.808333</td>\n",
       "      <td>0.162791</td>\n",
       "      <td>0.956098</td>\n",
       "      <td>0.077419</td>\n",
       "      <td>0.054545</td>\n",
       "      <td>0.642405</td>\n",
       "      <td>0.553571</td>\n",
       "      <td>1.000000</td>\n",
       "      <td>0.672566</td>\n",
       "      <td>1</td>\n",
       "    </tr>\n",
       "    <tr>\n",
       "      <th>4765</th>\n",
       "      <td>1</td>\n",
       "      <td>0.394231</td>\n",
       "      <td>0.240</td>\n",
       "      <td>0.525000</td>\n",
       "      <td>0.767442</td>\n",
       "      <td>0.321951</td>\n",
       "      <td>0.309677</td>\n",
       "      <td>0.483636</td>\n",
       "      <td>0.585845</td>\n",
       "      <td>0.660714</td>\n",
       "      <td>0.535433</td>\n",
       "      <td>0.424779</td>\n",
       "      <td>1</td>\n",
       "    </tr>\n",
       "    <tr>\n",
       "      <th>4766</th>\n",
       "      <td>1</td>\n",
       "      <td>0.355769</td>\n",
       "      <td>0.944</td>\n",
       "      <td>0.775000</td>\n",
       "      <td>0.697674</td>\n",
       "      <td>0.419512</td>\n",
       "      <td>0.722581</td>\n",
       "      <td>0.785455</td>\n",
       "      <td>0.642405</td>\n",
       "      <td>0.446429</td>\n",
       "      <td>0.472441</td>\n",
       "      <td>0.230088</td>\n",
       "      <td>1</td>\n",
       "    </tr>\n",
       "    <tr>\n",
       "      <th>4767</th>\n",
       "      <td>1</td>\n",
       "      <td>0.432692</td>\n",
       "      <td>0.192</td>\n",
       "      <td>0.375000</td>\n",
       "      <td>0.343023</td>\n",
       "      <td>0.341463</td>\n",
       "      <td>0.348387</td>\n",
       "      <td>0.341818</td>\n",
       "      <td>0.379251</td>\n",
       "      <td>0.386905</td>\n",
       "      <td>0.173228</td>\n",
       "      <td>0.389381</td>\n",
       "      <td>1</td>\n",
       "    </tr>\n",
       "  </tbody>\n",
       "</table>\n",
       "<p>4768 rows × 13 columns</p>\n",
       "</div>"
      ],
      "text/plain": [
       "      type  fixed acidity  volatile acidity  citric acid  residual sugar  \\\n",
       "0        1       0.701923             0.304     0.658333        0.049419   \n",
       "1        1       0.798077             0.240     0.641667        0.209302   \n",
       "2        1       0.663462             0.160     0.591667        0.034884   \n",
       "3        1       0.740385             0.544     1.000000        1.000000   \n",
       "4        1       0.394231             0.368     0.208333        0.401163   \n",
       "...    ...            ...               ...          ...             ...   \n",
       "4763     1       0.432692             0.304     0.525000        0.174419   \n",
       "4764     0       1.000000             0.544     0.808333        0.162791   \n",
       "4765     1       0.394231             0.240     0.525000        0.767442   \n",
       "4766     1       0.355769             0.944     0.775000        0.697674   \n",
       "4767     1       0.432692             0.192     0.375000        0.343023   \n",
       "\n",
       "      chlorides  free sulfur dioxide  total sulfur dioxide   density  \\\n",
       "0      0.234146             0.129032              0.207273  0.219692   \n",
       "1      0.253659             0.206452              0.374545  0.451887   \n",
       "2      0.302439             0.193548              0.250909  0.291136   \n",
       "3      0.302439             0.516129              0.603636  0.779341   \n",
       "4      0.341463             0.425806              0.461818  0.499516   \n",
       "...         ...                  ...                   ...       ...   \n",
       "4763   0.243902             0.103226              0.141818  0.257796   \n",
       "4764   0.956098             0.077419              0.054545  0.642405   \n",
       "4765   0.321951             0.309677              0.483636  0.585845   \n",
       "4766   0.419512             0.722581              0.785455  0.642405   \n",
       "4767   0.341463             0.348387              0.341818  0.379251   \n",
       "\n",
       "            pH  sulphates   alcohol  best quality  \n",
       "0     0.232143   0.535433  0.707965             0  \n",
       "1     0.410714   0.488189  0.300885             0  \n",
       "2     0.458333   0.645669  0.495575             0  \n",
       "3     0.220238   0.708661  0.300885             0  \n",
       "4     0.505952   0.440945  0.265487             0  \n",
       "...        ...        ...       ...           ...  \n",
       "4763  0.339286   0.283465  0.442478             1  \n",
       "4764  0.553571   1.000000  0.672566             1  \n",
       "4765  0.660714   0.535433  0.424779             1  \n",
       "4766  0.446429   0.472441  0.230088             1  \n",
       "4767  0.386905   0.173228  0.389381             1  \n",
       "\n",
       "[4768 rows x 13 columns]"
      ]
     },
     "execution_count": 35,
     "metadata": {},
     "output_type": "execute_result"
    }
   ],
   "source": [
    "df"
   ]
  },
  {
   "cell_type": "code",
   "execution_count": 36,
   "id": "78688307-5133-46b1-8b02-007889a7a69e",
   "metadata": {},
   "outputs": [
    {
     "data": {
      "text/plain": [
       "<Axes: >"
      ]
     },
     "execution_count": 36,
     "metadata": {},
     "output_type": "execute_result"
    },
    {
     "data": {
      "image/png": "[encoded data removed]",
      "text/plain": [
       "<Figure size 640x480 with 2 Axes>"
      ]
     },
     "metadata": {},
     "output_type": "display_data"
    }
   ],
   "source": [
    "sns.heatmap(df.corr())"
   ]
  },
  {
   "cell_type": "markdown",
   "id": "185a129f-3944-441c-af9a-636fe35a30af",
   "metadata": {},
   "source": [
    "# Spliting of Data into X and Y"
   ]
  },
  {
   "cell_type": "code",
   "execution_count": 37,
   "id": "439529b5-1498-46e3-bd71-40d968047d73",
   "metadata": {},
   "outputs": [],
   "source": [
    "x = df.drop(['best quality'], axis=1)\n",
    "y = df['best quality']"
   ]
  },
  {
   "cell_type": "markdown",
   "id": "a487b0ba-f1cd-4816-aa60-e3124be1baa9",
   "metadata": {},
   "source": [
    "# train_test_split"
   ]
  },
  {
   "cell_type": "code",
   "execution_count": 38,
   "id": "29336ccb-b8a8-4977-b95f-2f3c67ff694e",
   "metadata": {},
   "outputs": [],
   "source": [
    "x_train, x_test, y_train, y_test = train_test_split(x, y, test_size=0.2, random_state=40)"
   ]
  },
  {
   "cell_type": "code",
   "execution_count": 39,
   "id": "29a9abcf-23e2-448d-a032-fa1d9da04b12",
   "metadata": {},
   "outputs": [],
   "source": [
    "from sklearn.tree import DecisionTreeClassifier, plot_tree\n",
    "from sklearn.metrics import confusion_matrix, classification_report, accuracy_score, roc_auc_score\n"
   ]
  },
  {
   "cell_type": "markdown",
   "id": "df544e52-9eb4-483f-83eb-e44ef1c23c03",
   "metadata": {},
   "source": [
    "# 1) Decision Tree Classifier"
   ]
  },
  {
   "cell_type": "code",
   "execution_count": 40,
   "id": "18a6e231-0662-424c-b6a4-23d377a2befd",
   "metadata": {},
   "outputs": [
    {
     "name": "stdout",
     "output_type": "stream",
     "text": [
      "74.94758909853249\n",
      "89.51232302045096\n"
     ]
    }
   ],
   "source": [
    "dt = DecisionTreeClassifier(criterion='gini',random_state=50,max_depth=10)\n",
    "dt.fit(x_train, y_train)\n",
    "print(dt.score(x_test,y_test)*100)\n",
    "print(dt.score(x_train,y_train)*100)"
   ]
  },
  {
   "cell_type": "code",
   "execution_count": 41,
   "id": "84712c1e-e366-4d13-bdbd-e5338900733b",
   "metadata": {},
   "outputs": [
    {
     "name": "stdout",
     "output_type": "stream",
     "text": [
      "Confusion Matrix: \n",
      " [[345 130]\n",
      " [109 370]]\n",
      "************************************************************\n",
      "Accuracy :  74.94758909853249\n",
      "************************************************************\n",
      "Classification report :\n",
      "               precision    recall  f1-score   support\n",
      "\n",
      "           0       0.76      0.73      0.74       475\n",
      "           1       0.74      0.77      0.76       479\n",
      "\n",
      "    accuracy                           0.75       954\n",
      "   macro avg       0.75      0.75      0.75       954\n",
      "weighted avg       0.75      0.75      0.75       954\n",
      "\n"
     ]
    }
   ],
   "source": [
    "# Testing Accuracy\n",
    "y_pred_test = dt.predict(x_test)\n",
    "\n",
    "cnf_matrix = confusion_matrix(y_pred_test, y_test)\n",
    "print(\"Confusion Matrix: \\n\", cnf_matrix)\n",
    "print(\"*\"*60)\n",
    "\n",
    "accuracy = accuracy_score(y_pred_test, y_test)\n",
    "print(\"Accuracy : \",accuracy*100)\n",
    "print(\"*\"*60)\n",
    "\n",
    "clf_report  = classification_report(y_pred_test, y_test)\n",
    "print(\"Classification report :\\n\",clf_report)"
   ]
  },
  {
   "cell_type": "code",
   "execution_count": 42,
   "id": "22a61a06-aa3c-4d01-885c-17aa7009b0b8",
   "metadata": {},
   "outputs": [
    {
     "name": "stdout",
     "output_type": "stream",
     "text": [
      "Confusion Matrix: \n",
      " [[1759  229]\n",
      " [ 171 1655]]\n",
      "************************************************************\n",
      "Accuracy :  89.51232302045096\n",
      "************************************************************\n",
      "Classification report :\n",
      "               precision    recall  f1-score   support\n",
      "\n",
      "           0       0.91      0.88      0.90      1988\n",
      "           1       0.88      0.91      0.89      1826\n",
      "\n",
      "    accuracy                           0.90      3814\n",
      "   macro avg       0.89      0.90      0.90      3814\n",
      "weighted avg       0.90      0.90      0.90      3814\n",
      "\n"
     ]
    }
   ],
   "source": [
    "# Training Accuracy\n",
    "y_pred_train = dt.predict(x_train)\n",
    "\n",
    "cnf_matrix = confusion_matrix(y_pred_train, y_train)\n",
    "print(\"Confusion Matrix: \\n\", cnf_matrix)\n",
    "print(\"*\"*60)\n",
    "\n",
    "accuracy = accuracy_score(y_pred_train, y_train)\n",
    "print(\"Accuracy : \",accuracy*100)\n",
    "print(\"*\"*60)\n",
    "\n",
    "clf_report  = classification_report(y_pred_train, y_train)\n",
    "print(\"Classification report :\\n\",clf_report)"
   ]
  },
  {
   "cell_type": "code",
   "execution_count": 43,
   "id": "d84918c6-82d9-40d0-a967-b37e8a0a2b98",
   "metadata": {},
   "outputs": [
    {
     "name": "stdout",
     "output_type": "stream",
     "text": [
      "\n"
     ]
    },
    {
     "data": {
      "image/png": "[encoded data removed]",
      "text/plain": [
       "<Figure size 640x480 with 1 Axes>"
      ]
     },
     "metadata": {},
     "output_type": "display_data"
    }
   ],
   "source": [
    "plot_tree(dt)\n",
    "print()"
   ]
  },
  {
   "cell_type": "markdown",
   "id": "315be431-da9c-48d2-bd1d-e5b267951531",
   "metadata": {},
   "source": [
    "# 2) Random Forest Classifier"
   ]
  },
  {
   "cell_type": "code",
   "execution_count": 44,
   "id": "d1447e00-5aea-4879-943c-b12455a18387",
   "metadata": {},
   "outputs": [],
   "source": [
    "from sklearn.ensemble import RandomForestClassifier"
   ]
  },
  {
   "cell_type": "code",
   "execution_count": 45,
   "id": "77b83794-e375-49ee-8c28-adc4c99cd2e8",
   "metadata": {},
   "outputs": [
    {
     "data": {
      "text/html": [
       "<style>#sk-container-id-1 {\n",
       "  /* Definition of color scheme common for light and dark mode */\n",
       "  --sklearn-color-text: black;\n",
       "  --sklearn-color-line: gray;\n",
       "  /* Definition of color scheme for unfitted estimators */\n",
       "  --sklearn-color-unfitted-level-0: #fff5e6;\n",
       "  --sklearn-color-unfitted-level-1: #f6e4d2;\n",
       "  --sklearn-color-unfitted-level-2: #ffe0b3;\n",
       "  --sklearn-color-unfitted-level-3: chocolate;\n",
       "  /* Definition of color scheme for fitted estimators */\n",
       "  --sklearn-color-fitted-level-0: #f0f8ff;\n",
       "  --sklearn-color-fitted-level-1: #d4ebff;\n",
       "  --sklearn-color-fitted-level-2: #b3dbfd;\n",
       "  --sklearn-color-fitted-level-3: cornflowerblue;\n",
       "\n",
       "  /* Specific color for light theme */\n",
       "  --sklearn-color-text-on-default-background: var(--sg-text-color, var(--theme-code-foreground, var(--jp-content-font-color1, black)));\n",
       "  --sklearn-color-background: var(--sg-background-color, var(--theme-background, var(--jp-layout-color0, white)));\n",
       "  --sklearn-color-border-box: var(--sg-text-color, var(--theme-code-foreground, var(--jp-content-font-color1, black)));\n",
       "  --sklearn-color-icon: #696969;\n",
       "\n",
       "  @media (prefers-color-scheme: dark) {\n",
       "    /* Redefinition of color scheme for dark theme */\n",
       "    --sklearn-color-text-on-default-background: var(--sg-text-color, var(--theme-code-foreground, var(--jp-content-font-color1, white)));\n",
       "    --sklearn-color-background: var(--sg-background-color, var(--theme-background, var(--jp-layout-color0, #111)));\n",
       "    --sklearn-color-border-box: var(--sg-text-color, var(--theme-code-foreground, var(--jp-content-font-color1, white)));\n",
       "    --sklearn-color-icon: #878787;\n",
       "  }\n",
       "}\n",
       "\n",
       "#sk-container-id-1 {\n",
       "  color: var(--sklearn-color-text);\n",
       "}\n",
       "\n",
       "#sk-container-id-1 pre {\n",
       "  padding: 0;\n",
       "}\n",
       "\n",
       "#sk-container-id-1 input.sk-hidden--visually {\n",
       "  border: 0;\n",
       "  clip: rect(1px 1px 1px 1px);\n",
       "  clip: rect(1px, 1px, 1px, 1px);\n",
       "  height: 1px;\n",
       "  margin: -1px;\n",
       "  overflow: hidden;\n",
       "  padding: 0;\n",
       "  position: absolute;\n",
       "  width: 1px;\n",
       "}\n",
       "\n",
       "#sk-container-id-1 div.sk-dashed-wrapped {\n",
       "  border: 1px dashed var(--sklearn-color-line);\n",
       "  margin: 0 0.4em 0.5em 0.4em;\n",
       "  box-sizing: border-box;\n",
       "  padding-bottom: 0.4em;\n",
       "  background-color: var(--sklearn-color-background);\n",
       "}\n",
       "\n",
       "#sk-container-id-1 div.sk-container {\n",
       "  /* jupyter's `normalize.less` sets `[hidden] { display: none; }`\n",
       "     but bootstrap.min.css set `[hidden] { display: none !important; }`\n",
       "     so we also need the `!important` here to be able to override the\n",
       "     default hidden behavior on the sphinx rendered scikit-learn.org.\n",
       "     See: https://github.com/scikit-learn/scikit-learn/issues/21755 */\n",
       "  display: inline-block !important;\n",
       "  position: relative;\n",
       "}\n",
       "\n",
       "#sk-container-id-1 div.sk-text-repr-fallback {\n",
       "  display: none;\n",
       "}\n",
       "\n",
       "div.sk-parallel-item,\n",
       "div.sk-serial,\n",
       "div.sk-item {\n",
       "  /* draw centered vertical line to link estimators */\n",
       "  background-image: linear-gradient(var(--sklearn-color-text-on-default-background), var(--sklearn-color-text-on-default-background));\n",
       "  background-size: 2px 100%;\n",
       "  background-repeat: no-repeat;\n",
       "  background-position: center center;\n",
       "}\n",
       "\n",
       "/* Parallel-specific style estimator block */\n",
       "\n",
       "#sk-container-id-1 div.sk-parallel-item::after {\n",
       "  content: \"\";\n",
       "  width: 100%;\n",
       "  border-bottom: 2px solid var(--sklearn-color-text-on-default-background);\n",
       "  flex-grow: 1;\n",
       "}\n",
       "\n",
       "#sk-container-id-1 div.sk-parallel {\n",
       "  display: flex;\n",
       "  align-items: stretch;\n",
       "  justify-content: center;\n",
       "  background-color: var(--sklearn-color-background);\n",
       "  position: relative;\n",
       "}\n",
       "\n",
       "#sk-container-id-1 div.sk-parallel-item {\n",
       "  display: flex;\n",
       "  flex-direction: column;\n",
       "}\n",
       "\n",
       "#sk-container-id-1 div.sk-parallel-item:first-child::after {\n",
       "  align-self: flex-end;\n",
       "  width: 50%;\n",
       "}\n",
       "\n",
       "#sk-container-id-1 div.sk-parallel-item:last-child::after {\n",
       "  align-self: flex-start;\n",
       "  width: 50%;\n",
       "}\n",
       "\n",
       "#sk-container-id-1 div.sk-parallel-item:only-child::after {\n",
       "  width: 0;\n",
       "}\n",
       "\n",
       "/* Serial-specific style estimator block */\n",
       "\n",
       "#sk-container-id-1 div.sk-serial {\n",
       "  display: flex;\n",
       "  flex-direction: column;\n",
       "  align-items: center;\n",
       "  background-color: var(--sklearn-color-background);\n",
       "  padding-right: 1em;\n",
       "  padding-left: 1em;\n",
       "}\n",
       "\n",
       "\n",
       "/* Toggleable style: style used for estimator/Pipeline/ColumnTransformer box that is\n",
       "clickable and can be expanded/collapsed.\n",
       "- Pipeline and ColumnTransformer use this feature and define the default style\n",
       "- Estimators will overwrite some part of the style using the `sk-estimator` class\n",
       "*/\n",
       "\n",
       "/* Pipeline and ColumnTransformer style (default) */\n",
       "\n",
       "#sk-container-id-1 div.sk-toggleable {\n",
       "  /* Default theme specific background. It is overwritten whether we have a\n",
       "  specific estimator or a Pipeline/ColumnTransformer */\n",
       "  background-color: var(--sklearn-color-background);\n",
       "}\n",
       "\n",
       "/* Toggleable label */\n",
       "#sk-container-id-1 label.sk-toggleable__label {\n",
       "  cursor: pointer;\n",
       "  display: block;\n",
       "  width: 100%;\n",
       "  margin-bottom: 0;\n",
       "  padding: 0.5em;\n",
       "  box-sizing: border-box;\n",
       "  text-align: center;\n",
       "}\n",
       "\n",
       "#sk-container-id-1 label.sk-toggleable__label-arrow:before {\n",
       "  /* Arrow on the left of the label */\n",
       "  content: \"▸\";\n",
       "  float: left;\n",
       "  margin-right: 0.25em;\n",
       "  color: var(--sklearn-color-icon);\n",
       "}\n",
       "\n",
       "#sk-container-id-1 label.sk-toggleable__label-arrow:hover:before {\n",
       "  color: var(--sklearn-color-text);\n",
       "}\n",
       "\n",
       "/* Toggleable content - dropdown */\n",
       "\n",
       "#sk-container-id-1 div.sk-toggleable__content {\n",
       "  max-height: 0;\n",
       "  max-width: 0;\n",
       "  overflow: hidden;\n",
       "  text-align: left;\n",
       "  /* unfitted */\n",
       "  background-color: var(--sklearn-color-unfitted-level-0);\n",
       "}\n",
       "\n",
       "#sk-container-id-1 div.sk-toggleable__content.fitted {\n",
       "  /* fitted */\n",
       "  background-color: var(--sklearn-color-fitted-level-0);\n",
       "}\n",
       "\n",
       "#sk-container-id-1 div.sk-toggleable__content pre {\n",
       "  margin: 0.2em;\n",
       "  border-radius: 0.25em;\n",
       "  color: var(--sklearn-color-text);\n",
       "  /* unfitted */\n",
       "  background-color: var(--sklearn-color-unfitted-level-0);\n",
       "}\n",
       "\n",
       "#sk-container-id-1 div.sk-toggleable__content.fitted pre {\n",
       "  /* unfitted */\n",
       "  background-color: var(--sklearn-color-fitted-level-0);\n",
       "}\n",
       "\n",
       "#sk-container-id-1 input.sk-toggleable__control:checked~div.sk-toggleable__content {\n",
       "  /* Expand drop-down */\n",
       "  max-height: 200px;\n",
       "  max-width: 100%;\n",
       "  overflow: auto;\n",
       "}\n",
       "\n",
       "#sk-container-id-1 input.sk-toggleable__control:checked~label.sk-toggleable__label-arrow:before {\n",
       "  content: \"▾\";\n",
       "}\n",
       "\n",
       "/* Pipeline/ColumnTransformer-specific style */\n",
       "\n",
       "#sk-container-id-1 div.sk-label input.sk-toggleable__control:checked~label.sk-toggleable__label {\n",
       "  color: var(--sklearn-color-text);\n",
       "  background-color: var(--sklearn-color-unfitted-level-2);\n",
       "}\n",
       "\n",
       "#sk-container-id-1 div.sk-label.fitted input.sk-toggleable__control:checked~label.sk-toggleable__label {\n",
       "  background-color: var(--sklearn-color-fitted-level-2);\n",
       "}\n",
       "\n",
       "/* Estimator-specific style */\n",
       "\n",
       "/* Colorize estimator box */\n",
       "#sk-container-id-1 div.sk-estimator input.sk-toggleable__control:checked~label.sk-toggleable__label {\n",
       "  /* unfitted */\n",
       "  background-color: var(--sklearn-color-unfitted-level-2);\n",
       "}\n",
       "\n",
       "#sk-container-id-1 div.sk-estimator.fitted input.sk-toggleable__control:checked~label.sk-toggleable__label {\n",
       "  /* fitted */\n",
       "  background-color: var(--sklearn-color-fitted-level-2);\n",
       "}\n",
       "\n",
       "#sk-container-id-1 div.sk-label label.sk-toggleable__label,\n",
       "#sk-container-id-1 div.sk-label label {\n",
       "  /* The background is the default theme color */\n",
       "  color: var(--sklearn-color-text-on-default-background);\n",
       "}\n",
       "\n",
       "/* On hover, darken the color of the background */\n",
       "#sk-container-id-1 div.sk-label:hover label.sk-toggleable__label {\n",
       "  color: var(--sklearn-color-text);\n",
       "  background-color: var(--sklearn-color-unfitted-level-2);\n",
       "}\n",
       "\n",
       "/* Label box, darken color on hover, fitted */\n",
       "#sk-container-id-1 div.sk-label.fitted:hover label.sk-toggleable__label.fitted {\n",
       "  color: var(--sklearn-color-text);\n",
       "  background-color: var(--sklearn-color-fitted-level-2);\n",
       "}\n",
       "\n",
       "/* Estimator label */\n",
       "\n",
       "#sk-container-id-1 div.sk-label label {\n",
       "  font-family: monospace;\n",
       "  font-weight: bold;\n",
       "  display: inline-block;\n",
       "  line-height: 1.2em;\n",
       "}\n",
       "\n",
       "#sk-container-id-1 div.sk-label-container {\n",
       "  text-align: center;\n",
       "}\n",
       "\n",
       "/* Estimator-specific */\n",
       "#sk-container-id-1 div.sk-estimator {\n",
       "  font-family: monospace;\n",
       "  border: 1px dotted var(--sklearn-color-border-box);\n",
       "  border-radius: 0.25em;\n",
       "  box-sizing: border-box;\n",
       "  margin-bottom: 0.5em;\n",
       "  /* unfitted */\n",
       "  background-color: var(--sklearn-color-unfitted-level-0);\n",
       "}\n",
       "\n",
       "#sk-container-id-1 div.sk-estimator.fitted {\n",
       "  /* fitted */\n",
       "  background-color: var(--sklearn-color-fitted-level-0);\n",
       "}\n",
       "\n",
       "/* on hover */\n",
       "#sk-container-id-1 div.sk-estimator:hover {\n",
       "  /* unfitted */\n",
       "  background-color: var(--sklearn-color-unfitted-level-2);\n",
       "}\n",
       "\n",
       "#sk-container-id-1 div.sk-estimator.fitted:hover {\n",
       "  /* fitted */\n",
       "  background-color: var(--sklearn-color-fitted-level-2);\n",
       "}\n",
       "\n",
       "/* Specification for estimator info (e.g. \"i\" and \"?\") */\n",
       "\n",
       "/* Common style for \"i\" and \"?\" */\n",
       "\n",
       ".sk-estimator-doc-link,\n",
       "a:link.sk-estimator-doc-link,\n",
       "a:visited.sk-estimator-doc-link {\n",
       "  float: right;\n",
       "  font-size: smaller;\n",
       "  line-height: 1em;\n",
       "  font-family: monospace;\n",
       "  background-color: var(--sklearn-color-background);\n",
       "  border-radius: 1em;\n",
       "  height: 1em;\n",
       "  width: 1em;\n",
       "  text-decoration: none !important;\n",
       "  margin-left: 1ex;\n",
       "  /* unfitted */\n",
       "  border: var(--sklearn-color-unfitted-level-1) 1pt solid;\n",
       "  color: var(--sklearn-color-unfitted-level-1);\n",
       "}\n",
       "\n",
       ".sk-estimator-doc-link.fitted,\n",
       "a:link.sk-estimator-doc-link.fitted,\n",
       "a:visited.sk-estimator-doc-link.fitted {\n",
       "  /* fitted */\n",
       "  border: var(--sklearn-color-fitted-level-1) 1pt solid;\n",
       "  color: var(--sklearn-color-fitted-level-1);\n",
       "}\n",
       "\n",
       "/* On hover */\n",
       "div.sk-estimator:hover .sk-estimator-doc-link:hover,\n",
       ".sk-estimator-doc-link:hover,\n",
       "div.sk-label-container:hover .sk-estimator-doc-link:hover,\n",
       ".sk-estimator-doc-link:hover {\n",
       "  /* unfitted */\n",
       "  background-color: var(--sklearn-color-unfitted-level-3);\n",
       "  color: var(--sklearn-color-background);\n",
       "  text-decoration: none;\n",
       "}\n",
       "\n",
       "div.sk-estimator.fitted:hover .sk-estimator-doc-link.fitted:hover,\n",
       ".sk-estimator-doc-link.fitted:hover,\n",
       "div.sk-label-container:hover .sk-estimator-doc-link.fitted:hover,\n",
       ".sk-estimator-doc-link.fitted:hover {\n",
       "  /* fitted */\n",
       "  background-color: var(--sklearn-color-fitted-level-3);\n",
       "  color: var(--sklearn-color-background);\n",
       "  text-decoration: none;\n",
       "}\n",
       "\n",
       "/* Span, style for the box shown on hovering the info icon */\n",
       ".sk-estimator-doc-link span {\n",
       "  display: none;\n",
       "  z-index: 9999;\n",
       "  position: relative;\n",
       "  font-weight: normal;\n",
       "  right: .2ex;\n",
       "  padding: .5ex;\n",
       "  margin: .5ex;\n",
       "  width: min-content;\n",
       "  min-width: 20ex;\n",
       "  max-width: 50ex;\n",
       "  color: var(--sklearn-color-text);\n",
       "  box-shadow: 2pt 2pt 4pt #999;\n",
       "  /* unfitted */\n",
       "  background: var(--sklearn-color-unfitted-level-0);\n",
       "  border: .5pt solid var(--sklearn-color-unfitted-level-3);\n",
       "}\n",
       "\n",
       ".sk-estimator-doc-link.fitted span {\n",
       "  /* fitted */\n",
       "  background: var(--sklearn-color-fitted-level-0);\n",
       "  border: var(--sklearn-color-fitted-level-3);\n",
       "}\n",
       "\n",
       ".sk-estimator-doc-link:hover span {\n",
       "  display: block;\n",
       "}\n",
       "\n",
       "/* \"?\"-specific style due to the `<a>` HTML tag */\n",
       "\n",
       "#sk-container-id-1 a.estimator_doc_link {\n",
       "  float: right;\n",
       "  font-size: 1rem;\n",
       "  line-height: 1em;\n",
       "  font-family: monospace;\n",
       "  background-color: var(--sklearn-color-background);\n",
       "  border-radius: 1rem;\n",
       "  height: 1rem;\n",
       "  width: 1rem;\n",
       "  text-decoration: none;\n",
       "  /* unfitted */\n",
       "  color: var(--sklearn-color-unfitted-level-1);\n",
       "  border: var(--sklearn-color-unfitted-level-1) 1pt solid;\n",
       "}\n",
       "\n",
       "#sk-container-id-1 a.estimator_doc_link.fitted {\n",
       "  /* fitted */\n",
       "  border: var(--sklearn-color-fitted-level-1) 1pt solid;\n",
       "  color: var(--sklearn-color-fitted-level-1);\n",
       "}\n",
       "\n",
       "/* On hover */\n",
       "#sk-container-id-1 a.estimator_doc_link:hover {\n",
       "  /* unfitted */\n",
       "  background-color: var(--sklearn-color-unfitted-level-3);\n",
       "  color: var(--sklearn-color-background);\n",
       "  text-decoration: none;\n",
       "}\n",
       "\n",
       "#sk-container-id-1 a.estimator_doc_link.fitted:hover {\n",
       "  /* fitted */\n",
       "  background-color: var(--sklearn-color-fitted-level-3);\n",
       "}\n",
       "</style><div id=\"sk-container-id-1\" class=\"sk-top-container\"><div class=\"sk-text-repr-fallback\"><pre>RandomForestClassifier()</pre><b>In a Jupyter environment, please rerun this cell to show the HTML representation or trust the notebook. <br />On GitHub, the HTML representation is unable to render, please try loading this page with nbviewer.org.</b></div><div class=\"sk-container\" hidden><div class=\"sk-item\"><div class=\"sk-estimator fitted sk-toggleable\"><input class=\"sk-toggleable__control sk-hidden--visually\" id=\"sk-estimator-id-1\" type=\"checkbox\" checked><label for=\"sk-estimator-id-1\" class=\"sk-toggleable__label fitted sk-toggleable__label-arrow fitted\">&nbsp;&nbsp;RandomForestClassifier<a class=\"sk-estimator-doc-link fitted\" rel=\"noreferrer\" target=\"_blank\" href=\"https://scikit-learn.org/1.5/modules/generated/sklearn.ensemble.RandomForestClassifier.html\">?<span>Documentation for RandomForestClassifier</span></a><span class=\"sk-estimator-doc-link fitted\">i<span>Fitted</span></span></label><div class=\"sk-toggleable__content fitted\"><pre>RandomForestClassifier()</pre></div> </div></div></div></div>"
      ],
      "text/plain": [
       "RandomForestClassifier()"
      ]
     },
     "execution_count": 45,
     "metadata": {},
     "output_type": "execute_result"
    }
   ],
   "source": [
    "rf = RandomForestClassifier()\n",
    "rf.fit(x_train, y_train)"
   ]
  },
  {
   "cell_type": "code",
   "execution_count": 46,
   "id": "67fe407d-48db-4038-acdf-f93bb284138a",
   "metadata": {},
   "outputs": [
    {
     "name": "stdout",
     "output_type": "stream",
     "text": [
      "81.9706498951782\n",
      "100.0\n"
     ]
    }
   ],
   "source": [
    "print(rf.score(x_test,y_test)*100)\n",
    "print(rf.score(x_train,y_train)*100)"
   ]
  },
  {
   "cell_type": "code",
   "execution_count": 47,
   "id": "04fef4d9-9cc5-44c0-8a30-5bcf1a22d090",
   "metadata": {},
   "outputs": [
    {
     "name": "stdout",
     "output_type": "stream",
     "text": [
      "81.9706498951782\n",
      "              precision    recall  f1-score   support\n",
      "\n",
      "           0       0.83      0.80      0.81       472\n",
      "           1       0.81      0.84      0.82       482\n",
      "\n",
      "    accuracy                           0.82       954\n",
      "   macro avg       0.82      0.82      0.82       954\n",
      "weighted avg       0.82      0.82      0.82       954\n",
      "\n"
     ]
    }
   ],
   "source": [
    "y_pred_rf= rf.predict(x_test)\n",
    "print(accuracy_score(y_pred_rf,y_test)*100)\n",
    "print(classification_report(y_pred_rf,y_test))"
   ]
  },
  {
   "cell_type": "markdown",
   "id": "e45c1376-3658-4e93-afac-04784b9d30f5",
   "metadata": {},
   "source": [
    "# Hyperparameter Tuning"
   ]
  },
  {
   "cell_type": "code",
   "execution_count": 60,
   "id": "edd7243b-a7be-47e8-8a7b-f2b217e66fb8",
   "metadata": {},
   "outputs": [],
   "source": [
    "from sklearn.model_selection import GridSearchCV,RandomizedSearchCV \n"
   ]
  },
  {
   "cell_type": "code",
   "execution_count": 61,
   "id": "a4d3fa3a-891c-4e8e-804c-edbd72a2c0f1",
   "metadata": {},
   "outputs": [],
   "source": [
    "param_grid_grcv = { \n",
    "    'n_estimators': [25, 50, 100, 150], \n",
    "    'max_features': ['sqrt', 'log2', None], \n",
    "    'max_depth': [3, 6, 9], \n",
    "    'max_leaf_nodes': [3, 6, 9], \n",
    "}"
   ]
  },
  {
   "cell_type": "markdown",
   "id": "ae2095fe-8819-42db-9b53-53336b100cb3",
   "metadata": {},
   "source": [
    "#### GridSearchCV"
   ]
  },
  {
   "cell_type": "code",
   "execution_count": 62,
   "id": "06e4c660-d7c4-4cd4-9ed2-ffb911023106",
   "metadata": {},
   "outputs": [
    {
     "name": "stdout",
     "output_type": "stream",
     "text": [
      "RandomForestClassifier(max_depth=9, max_features=None, max_leaf_nodes=9,\n",
      "                       n_estimators=25)\n",
      "74.64604090194022\n",
      "74.0041928721174\n"
     ]
    }
   ],
   "source": [
    "grid_search = GridSearchCV(rf,param_grid_grcv) \n",
    "grid_search.fit(x_train, y_train) \n",
    "print(grid_search.best_estimator_)\n",
    "print(grid_search.score(x_train,y_train)*100)\n",
    "print(grid_search.score(x_test,y_test)*100)"
   ]
  },
  {
   "cell_type": "markdown",
   "id": "7cb96143-69cc-4c3c-96de-99f8c71eecb1",
   "metadata": {},
   "source": [
    "# After Hyperparameter Tuning"
   ]
  },
  {
   "cell_type": "code",
   "execution_count": 63,
   "id": "525a607f-d579-42ea-97f3-3082029cd6d0",
   "metadata": {},
   "outputs": [
    {
     "name": "stdout",
     "output_type": "stream",
     "text": [
      "73.06079664570231\n",
      "74.6722600943891\n",
      "accuracy_score =>  73.06079664570231\n",
      "              precision    recall  f1-score   support\n",
      "\n",
      "           0       0.73      0.71      0.72       463\n",
      "           1       0.73      0.75      0.74       491\n",
      "\n",
      "    accuracy                           0.73       954\n",
      "   macro avg       0.73      0.73      0.73       954\n",
      "weighted avg       0.73      0.73      0.73       954\n",
      "\n"
     ]
    }
   ],
   "source": [
    "rf2 = RandomForestClassifier(max_depth=9, max_features=None, max_leaf_nodes=9,n_estimators=50)\n",
    "rf2.fit(x_train, y_train)\n",
    "\n",
    "print(rf2.score(x_test,y_test)*100)\n",
    "print(rf2.score(x_train,y_train)*100)\n",
    "\n",
    "y_pred_rf2= rf2.predict(x_test)\n",
    "\n",
    "print(\"accuracy_score => \",accuracy_score(y_pred_rf2,y_test)*100)\n",
    "print(classification_report(y_pred_rf2,y_test))"
   ]
  },
  {
   "cell_type": "markdown",
   "id": "d0e8f561-3145-477e-9514-e77232006a7c",
   "metadata": {},
   "source": [
    "#### RandomizedSearchCV"
   ]
  },
  {
   "cell_type": "code",
   "execution_count": 64,
   "id": "c1a25721-0319-4ada-8a61-959e12a079e0",
   "metadata": {},
   "outputs": [
    {
     "name": "stdout",
     "output_type": "stream",
     "text": [
      "74.0041928721174\n",
      "74.96067121132668\n",
      "RandomForestClassifier(max_depth=9, max_features=None, max_leaf_nodes=9,\n",
      "                       n_estimators=50)\n"
     ]
    }
   ],
   "source": [
    "random_search = RandomizedSearchCV(rf, param_grid_grcv) \n",
    "random_search.fit(x_train, y_train) \n",
    "print(random_search.score(x_test,y_test)*100)\n",
    "print(random_search.score(x_train,y_train)*100)\n",
    "print(random_search.best_estimator_)"
   ]
  },
  {
   "cell_type": "code",
   "execution_count": 65,
   "id": "1508cb22-025e-413d-b4a0-ad4c3cb5c572",
   "metadata": {},
   "outputs": [
    {
     "name": "stdout",
     "output_type": "stream",
     "text": [
      "72.74633123689728\n",
      "74.20031463030938\n"
     ]
    }
   ],
   "source": [
    "rf = RandomForestClassifier(max_depth=6, max_features='log2', max_leaf_nodes=9,n_estimators=25)\n",
    "rf.fit(x_train, y_train)\n",
    "print(rf.score(x_test,y_test)*100)\n",
    "print(rf.score(x_train,y_train)*100)"
   ]
  },
  {
   "cell_type": "markdown",
   "id": "e81c6b49-438f-4070-8950-78e481a034c1",
   "metadata": {},
   "source": [
    "# 3) XGB Classifier"
   ]
  },
  {
   "cell_type": "code",
   "execution_count": 66,
   "id": "576a1d58-a3e7-457e-af6d-cc69e8c31a2c",
   "metadata": {},
   "outputs": [],
   "source": [
    "from xgboost import XGBClassifier"
   ]
  },
  {
   "cell_type": "code",
   "execution_count": 67,
   "id": "baad88ee-12c0-483e-ac2f-79f0ab3ad515",
   "metadata": {},
   "outputs": [],
   "source": [
    "xgb = XGBClassifier()"
   ]
  },
  {
   "cell_type": "code",
   "execution_count": 68,
   "id": "efd8ae09-de2c-40e8-af45-e26e40efdd1c",
   "metadata": {},
   "outputs": [],
   "source": [
    "xgb.fit(x_train, y_train)\n",
    "y_pred_xgb=xgb.predict(x_test)"
   ]
  },
  {
   "cell_type": "code",
   "execution_count": 69,
   "id": "30ee7e43-7dfe-4f33-bb5c-961b46999c93",
   "metadata": {},
   "outputs": [
    {
     "name": "stdout",
     "output_type": "stream",
     "text": [
      "79.55974842767296\n",
      "              precision    recall  f1-score   support\n",
      "\n",
      "           0       0.81      0.77      0.79       475\n",
      "           1       0.78      0.82      0.80       479\n",
      "\n",
      "    accuracy                           0.80       954\n",
      "   macro avg       0.80      0.80      0.80       954\n",
      "weighted avg       0.80      0.80      0.80       954\n",
      "\n"
     ]
    }
   ],
   "source": [
    "print(accuracy_score(y_pred_xgb,y_test)*100)\n",
    "print(classification_report(y_pred_xgb,y_test))"
   ]
  },
  {
   "cell_type": "code",
   "execution_count": 70,
   "id": "e0f3c053-1447-4730-b5ae-1898fa6820fb",
   "metadata": {},
   "outputs": [
    {
     "name": "stdout",
     "output_type": "stream",
     "text": [
      "79.55974842767296\n",
      "99.52805453592029\n"
     ]
    }
   ],
   "source": [
    "print(xgb.score(x_test, y_test)*100)\n",
    "print(xgb.score(x_train, y_train)*100)"
   ]
  },
  {
   "cell_type": "code",
   "execution_count": null,
   "id": "b8070b4f-36ed-4c4e-a30a-af77a58eec47",
   "metadata": {},
   "outputs": [],
   "source": []
  },
  {
   "cell_type": "code",
   "execution_count": 71,
   "id": "8acc692e-4238-4876-a582-8c2c1b9a1b04",
   "metadata": {},
   "outputs": [
    {
     "name": "stdout",
     "output_type": "stream",
     "text": [
      " Your Model is saved as 'wine_model.pkl' \n"
     ]
    }
   ],
   "source": [
    "import pickle\n",
    "with open('wine_model_2.pkl', 'wb') as f:\n",
    "    pickle.dump(rf2, f)\n",
    "\n",
    "print(\" Your Model is saved as 'wine_model.pkl' \")"
   ]
  },
  {
   "cell_type": "markdown",
   "id": "cbcb0123-15d2-42ca-828f-3a25ef1f89fc",
   "metadata": {},
   "source": [
    "Conclusion: The XGBoost model was chosen for its accuracy of around 79.56%, but further experimentation with Random Forest’s hyperparameters showed potential improvement."
   ]
  },
  {
   "cell_type": "code",
   "execution_count": null,
   "id": "6fa22d02-45ec-42dc-9e1d-cfc1ac2cc3b1",
   "metadata": {},
   "outputs": [],
   "source": []
  }
 ],
 "metadata": {
  "kernelspec": {
   "display_name": "Python 3 (ipykernel)",
   "language": "python",
   "name": "python3"
  },
  "language_info": {
   "codemirror_mode": {
    "name": "ipython",
    "version": 3
   },
   "file_extension": ".py",
   "mimetype": "text/x-python",
   "name": "python",
   "nbconvert_exporter": "python",
   "pygments_lexer": "ipython3",
   "version": "3.12.5"
  }
 },
 "nbformat": 4,
 "nbformat_minor": 5
}
